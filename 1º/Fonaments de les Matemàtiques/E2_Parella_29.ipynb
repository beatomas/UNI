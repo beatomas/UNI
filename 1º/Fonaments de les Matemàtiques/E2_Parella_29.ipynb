{
 "cells": [
  {
   "cell_type": "markdown",
   "metadata": {},
   "source": [
    "# Pràctica entregable de SageMath"
   ]
  },
  {
   "cell_type": "markdown",
   "metadata": {},
   "source": [
    "#### Introduïu les vostres dades en aquesta ceŀla: "
   ]
  },
  {
   "cell_type": "markdown",
   "metadata": {},
   "source": [
    "Nom i cognoms:<br>\n",
    "NIU:\n",
    "\n",
    "Nom i cognoms:<br>\n",
    "NIU:"
   ]
  },
  {
   "cell_type": "markdown",
   "metadata": {},
   "source": [
    "En aquesta pràctica aplicarem el càlcul de màxims i mínims en dues variables a un problema realista de tractament de dades."
   ]
  },
  {
   "cell_type": "markdown",
   "metadata": {},
   "source": [
    "Se sap que l'activitat d'un cert enzim (mesurada com la velocitat v de reacció) depèn de la  concentració c seguint una llei del tipus\n",
    "<p style=\"text-align: center;\">\n",
    "$v=\\frac{c x}{c+y}$ \n",
    "</p>\n",
    "on $x$ i $y$ són uns valors en cinètica química que cal estimar basant-se en els resultats experimentals.\n",
    "Considereu la taula següent, que resumeix mesures obtingudes al laboratori:\n",
    "\n",
    "\n",
    "|Concentració| 0.005| 0.02| 0.05| 0.080| 0.12| 0.16| 0.20| 0.025| 0.10| 0.25| 0.40| 0.60| 0.80| 1.0|\n",
    "|-|-|-|-|-|-|-|-|-|-|-|-|\n",
    "|Velocitat|4.190| 7.449| 8.931| 9.312| 12.204| 13.473| 14.80| 4.034| 9.650| 12.598| 12.922| 14.509| 13.228| 14.461 |\n",
    "\n",
    "El primer objectiu d'aquesta pràctica és trobar els paràmetres $x, y$ òptims, pel mètode anomenat dels <i>mínims quadrats</i>, que busca minimitzar la suma dels quadrats de les diferències entre el valor (longitud) mesurat i el teòric predit per la fórmula."
   ]
  },
  {
   "cell_type": "markdown",
   "metadata": {},
   "source": [
    "###### Exercici 1"
   ]
  },
  {
   "cell_type": "markdown",
   "metadata": {},
   "source": [
    "Executa la ceŀla següent per introduir la taula."
   ]
  },
  {
   "cell_type": "code",
   "execution_count": null,
   "metadata": {},
   "outputs": [],
   "source": [
    "concentracions=[0.005, 0.02, 0.05, 0.080, 0.12, 0.16, 0.20, 0.025, 0.10, 0.25, 0.40, 0.60, 0.80, 1.0]\n",
    "velocitats=[4.190, 7.449, 8.931, 9.312, 12.204, 13.473, 14.80, 4.034, 9.650, 12.598, 12.922, 14.509, 13.228, 14.461]\n",
    "dades=[[concentracions[k],velocitats[k]] for k in range(len(concentracions))]\n",
    "show(dades)"
   ]
  },
  {
   "cell_type": "markdown",
   "metadata": {},
   "source": [
    "* Defineix en SageMath la funció $v(c)=\\frac{cx}{c+y}$ (caldrà definir variables adequades).\n",
    "* Aplicant la funció <tt>v</tt> a cada nombre de la llista <tt>concentracions</tt> s'obté una velocitat teòrica (que depèn dels paràmetres $x$ i $y$, per exemple la primera és $0.005 x/(0.005+y)$). Crea una llista anomenada <tt>teoriques</tt> amb totes les velocitats teòriques."
   ]
  },
  {
   "cell_type": "code",
   "execution_count": null,
   "metadata": {},
   "outputs": [],
   "source": []
  },
  {
   "cell_type": "markdown",
   "metadata": {},
   "source": [
    "* Executa la següent ceŀla de codi i explica amb les teves paraules què fa:"
   ]
  },
  {
   "cell_type": "code",
   "execution_count": null,
   "metadata": {},
   "outputs": [],
   "source": [
    "f(x,y)=sum((teoriques[k]-velocitats[k])^2 for k in range(len(velocitats))).simplify()\n",
    "show(f)"
   ]
  },
  {
   "cell_type": "markdown",
   "metadata": {},
   "source": [
    "##### Exercici 2"
   ]
  },
  {
   "cell_type": "markdown",
   "metadata": {},
   "source": [
    "Ara estudiarem la funció $f(x,y)$ definida a l'exercici anterior, amb l'objectiu de trobar-ne el mínim. En cas que no hagis arribat a definir una funció $f(x,y)$, pots fer aquest exercici amb \n",
    "    $f(x,y)= 1.234 x^2-51x-e^{\\frac1{2y^2-y+1}}$ \n",
    "* Representa gràficament $f(x,y)$ per $(x,y)$ en el quadrat $\\left[20,21\\right]\\times\\left[0,1\\right]$.\n",
    "* Troba el vector gradient i la matriu Hessiana de $f$; dona'ls els noms <tt>gradf(x,y)</tt> i <tt>Hessf(x,y)</tt>.\n",
    "* Copia i enganxa a la ceŀla següent el codi de la funció de Python <tt>maxim3</tt> de la última pràctica.\n",
    "* En una altra ceŀla, crea una funció de Python <tt>minim3</tt> copiant l'anterior i modificant el necessari perquè busqui un mínim en comptes d'un màxim.\n",
    "* Troba, usant <tt>minim3</tt>, un mínim de $f(x,y)$ (pots usar $(20.5,0.1)$ com a punt inicial <tt>cur\\_x</tt>). Desa els valors $(x,y)$ obtinguts en les variables <tt>x\\_optima</tt> i <tt>y\\_optima</tt>, i avalua el vector gradient en aquest punt (hauries d'obtenir un vector proper a zero).\n",
    "* Avalua la matriu Hessiana en el punt que has trobat (si no has pogut fer l'apartat anterior, usa $(x,y)=(20.5,0.1)$) i explica si el resultat és coherent amb un mínim local. "
   ]
  },
  {
   "cell_type": "code",
   "execution_count": null,
   "metadata": {},
   "outputs": [],
   "source": []
  },
  {
   "cell_type": "markdown",
   "metadata": {},
   "source": [
    "##### Exercici 3"
   ]
  },
  {
   "cell_type": "markdown",
   "metadata": {},
   "source": [
    "Ara recuperem el context inicial del problema, amb la funció \n",
    "<p style=\"text-align: center;\">\n",
    "$v=\\frac{cx}{c+y}$\n",
    "</p>\n",
    "que suposadament relaciona concentracions i velocitats en les nostres dades. Les instruccions de sota generen una representació gràfica de les dades.\n",
    "* Substitueix els valors <tt>x\\_optima</tt> i <tt>y\\_optima</tt> en <tt>v</tt> (si no els has pogut trobar, utilitza $(20.5,0.1)$) i representa  $v$ com una funció de $c$ per a c$\\in[0,1]$. Superposa aquest gràfic amb els punts de les dades donades.\n",
    "* Determina, segons aquest model i els paràmetres $x, y$ obtinguts, amb quina concentració esperaríem una velocitat de reacció igual a 10."
   ]
  },
  {
   "cell_type": "code",
   "execution_count": null,
   "metadata": {},
   "outputs": [],
   "source": [
    "PUNTS=points(dades,xmin=0,xmax=1)\n",
    "show(PUNTS)"
   ]
  },
  {
   "cell_type": "code",
   "execution_count": null,
   "metadata": {},
   "outputs": [],
   "source": []
  }
 ],
 "metadata": {
  "kernelspec": {
   "display_name": "SageMath 8.2",
   "language": "",
   "name": "sagemath"
  },
  "language_info": {
   "codemirror_mode": {
    "name": "ipython",
    "version": 2
   },
   "file_extension": ".py",
   "mimetype": "text/x-python",
   "name": "python",
   "nbconvert_exporter": "python",
   "pygments_lexer": "ipython2",
   "version": "2.7.14"
  }
 },
 "nbformat": 4,
 "nbformat_minor": 2
}
