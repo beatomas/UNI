{
 "cells": [
  {
   "cell_type": "code",
   "execution_count": 2,
   "metadata": {},
   "outputs": [
    {
     "name": "stdout",
     "output_type": "stream",
     "text": [
      "La primera derivada és: \n"
     ]
    },
    {
     "data": {
      "text/html": [
       "<html><script type=\"math/tex; mode=display\">\\newcommand{\\Bold}[1]{\\mathbf{#1}}t \\ {\\mapsto}\\ \\tanh\\left(t\\right)^{2}</script></html>"
      ],
      "text/plain": [
       "t |--> tanh(t)^2"
      ]
     },
     "metadata": {},
     "output_type": "display_data"
    },
    {
     "data": {
      "text/html": [
       "<html><script type=\"math/tex; mode=display\">\\newcommand{\\Bold}[1]{\\mathbf{#1}}t \\ {\\mapsto}\\ -\\frac{\\sinh\\left(t\\right)}{\\cosh\\left(t\\right)^{2}}</script></html>"
      ],
      "text/plain": [
       "t |--> -sinh(t)/cosh(t)^2"
      ]
     },
     "metadata": {},
     "output_type": "display_data"
    },
    {
     "name": "stdout",
     "output_type": "stream",
     "text": [
      "\n",
      "La segona derivada és: \n"
     ]
    },
    {
     "data": {
      "text/html": [
       "<html><script type=\"math/tex; mode=display\">\\newcommand{\\Bold}[1]{\\mathbf{#1}}t \\ {\\mapsto}\\ -2 \\, {\\left(\\tanh\\left(t\\right)^{2} - 1\\right)} \\tanh\\left(t\\right)</script></html>"
      ],
      "text/plain": [
       "t |--> -2*(tanh(t)^2 - 1)*tanh(t)"
      ]
     },
     "metadata": {},
     "output_type": "display_data"
    },
    {
     "data": {
      "text/html": [
       "<html><script type=\"math/tex; mode=display\">\\newcommand{\\Bold}[1]{\\mathbf{#1}}t \\ {\\mapsto}\\ -\\frac{1}{\\cosh\\left(t\\right)} + \\frac{2 \\, \\sinh\\left(t\\right)^{2}}{\\cosh\\left(t\\right)^{3}}</script></html>"
      ],
      "text/plain": [
       "t |--> -1/cosh(t) + 2*sinh(t)^2/cosh(t)^3"
      ]
     },
     "metadata": {},
     "output_type": "display_data"
    },
    {
     "name": "stdout",
     "output_type": "stream",
     "text": [
      "\n",
      "La tercera derivada és: \n"
     ]
    },
    {
     "data": {
      "text/html": [
       "<html><script type=\"math/tex; mode=display\">\\newcommand{\\Bold}[1]{\\mathbf{#1}}t \\ {\\mapsto}\\ 4 \\, {\\left(\\tanh\\left(t\\right)^{2} - 1\\right)} \\tanh\\left(t\\right)^{2} + 2 \\, {\\left(\\tanh\\left(t\\right)^{2} - 1\\right)}^{2}</script></html>"
      ],
      "text/plain": [
       "t |--> 4*(tanh(t)^2 - 1)*tanh(t)^2 + 2*(tanh(t)^2 - 1)^2"
      ]
     },
     "metadata": {},
     "output_type": "display_data"
    },
    {
     "data": {
      "text/html": [
       "<html><script type=\"math/tex; mode=display\">\\newcommand{\\Bold}[1]{\\mathbf{#1}}t \\ {\\mapsto}\\ \\frac{5 \\, \\sinh\\left(t\\right)}{\\cosh\\left(t\\right)^{2}} - \\frac{6 \\, \\sinh\\left(t\\right)^{3}}{\\cosh\\left(t\\right)^{4}}</script></html>"
      ],
      "text/plain": [
       "t |--> 5*sinh(t)/cosh(t)^2 - 6*sinh(t)^3/cosh(t)^4"
      ]
     },
     "metadata": {},
     "output_type": "display_data"
    },
    {
     "name": "stdout",
     "output_type": "stream",
     "text": [
      "\n",
      "Fem la norma de la primera derivada: \n"
     ]
    },
    {
     "data": {
      "text/html": [
       "<html><script type=\"math/tex; mode=display\">\\newcommand{\\Bold}[1]{\\mathbf{#1}}\\sqrt{\\frac{\\cosh\\left(t\\right)^{2} - 1}{\\cosh\\left(t\\right)^{2}}}</script></html>"
      ],
      "text/plain": [
       "sqrt((cosh(t)^2 - 1)/cosh(t)^2)"
      ]
     },
     "metadata": {},
     "output_type": "display_data"
    },
    {
     "name": "stdout",
     "output_type": "stream",
     "text": [
      "\n",
      "Fem la integral de la norma\n"
     ]
    },
    {
     "data": {
      "text/html": [
       "<html><script type=\"math/tex; mode=display\">\\newcommand{\\Bold}[1]{\\mathbf{#1}}-t - \\log\\left(e^{\\left(-2 \\, t\\right)} + 1\\right)</script></html>"
      ],
      "text/plain": [
       "-t - log(e^(-2*t) + 1)"
      ]
     },
     "metadata": {},
     "output_type": "display_data"
    },
    {
     "name": "stdout",
     "output_type": "stream",
     "text": [
      "\n",
      "Fem la longitud de l'arc:\n"
     ]
    },
    {
     "data": {
      "text/html": [
       "<html><script type=\"math/tex; mode=display\">\\newcommand{\\Bold}[1]{\\mathbf{#1}}-\\log\\left({\\left(e^{2} + 1\\right)} e^{\\left(-2\\right)}\\right) + \\log\\left(e^{2} + 1\\right) - 2</script></html>"
      ],
      "text/plain": [
       "-log((e^2 + 1)*e^(-2)) + log(e^2 + 1) - 2"
      ]
     },
     "metadata": {},
     "output_type": "display_data"
    },
    {
     "name": "stdout",
     "output_type": "stream",
     "text": [
      "#############################################################################################\n",
      "\n",
      "Fem el determinant matriu derivades 1 i 2, numerador: \n"
     ]
    },
    {
     "data": {
      "text/html": [
       "<html><script type=\"math/tex; mode=display\">\\newcommand{\\Bold}[1]{\\mathbf{#1}}-{\\left(\\frac{1}{\\cosh\\left(t\\right)} - \\frac{2 \\, \\sinh\\left(t\\right)^{2}}{\\cosh\\left(t\\right)^{3}}\\right)} \\tanh\\left(t\\right)^{2} - \\frac{2 \\, {\\left(\\tanh\\left(t\\right)^{2} - 1\\right)} \\sinh\\left(t\\right) \\tanh\\left(t\\right)}{\\cosh\\left(t\\right)^{2}}</script></html>"
      ],
      "text/plain": [
       "-(1/cosh(t) - 2*sinh(t)^2/cosh(t)^3)*tanh(t)^2 - 2*(tanh(t)^2 - 1)*sinh(t)*tanh(t)/cosh(t)^2"
      ]
     },
     "metadata": {},
     "output_type": "display_data"
    },
    {
     "name": "stdout",
     "output_type": "stream",
     "text": [
      "\n",
      "Calculem la norma elevat a 3, denominador: \n"
     ]
    },
    {
     "data": {
      "text/html": [
       "<html><script type=\"math/tex; mode=display\">\\newcommand{\\Bold}[1]{\\mathbf{#1}}\\left(\\frac{\\cosh\\left(t\\right)^{2} - 1}{\\cosh\\left(t\\right)^{2}}\\right)^{\\frac{3}{2}}</script></html>"
      ],
      "text/plain": [
       "((cosh(t)^2 - 1)/cosh(t)^2)^(3/2)"
      ]
     },
     "metadata": {},
     "output_type": "display_data"
    },
    {
     "name": "stdout",
     "output_type": "stream",
     "text": [
      "\n",
      "Fem la curvatura:\n"
     ]
    },
    {
     "data": {
      "text/html": [
       "<html><script type=\"math/tex; mode=display\">\\newcommand{\\Bold}[1]{\\mathbf{#1}}\\frac{\\sinh\\left(t\\right)^{2}}{\\left(\\frac{\\cosh\\left(t\\right)^{2} - 1}{\\cosh\\left(t\\right)^{2}}\\right)^{\\frac{3}{2}} \\cosh\\left(t\\right)^{3}}</script></html>"
      ],
      "text/plain": [
       "sinh(t)^2/(((cosh(t)^2 - 1)/cosh(t)^2)^(3/2)*cosh(t)^3)"
      ]
     },
     "metadata": {},
     "output_type": "display_data"
    },
    {
     "name": "stdout",
     "output_type": "stream",
     "text": [
      "\n",
      "Biedre de frenet:\n",
      "T:\n"
     ]
    },
    {
     "data": {
      "text/html": [
       "<html><script type=\"math/tex; mode=display\">\\newcommand{\\Bold}[1]{\\mathbf{#1}}t \\ {\\mapsto}\\ \\frac{\\sinh\\left(t\\right)^{2}}{\\sqrt{\\frac{\\cosh\\left(t\\right)^{2} - 1}{\\cosh\\left(t\\right)^{2}}} \\cosh\\left(t\\right)^{2}} t \\ {\\mapsto}\\ -\\frac{\\sinh\\left(t\\right)}{\\sqrt{\\frac{\\cosh\\left(t\\right)^{2} - 1}{\\cosh\\left(t\\right)^{2}}} \\cosh\\left(t\\right)^{2}}</script></html>"
      ],
      "text/plain": [
       "t |--> sinh(t)^2/(sqrt((cosh(t)^2 - 1)/cosh(t)^2)*cosh(t)^2) t |--> -sinh(t)/(sqrt((cosh(t)^2 - 1)/cosh(t)^2)*cosh(t)^2)"
      ]
     },
     "metadata": {},
     "output_type": "display_data"
    },
    {
     "name": "stdout",
     "output_type": "stream",
     "text": [
      "\n",
      "Calulem la N, invertim ordre i canviem signe de T: \n",
      "N:\n"
     ]
    },
    {
     "data": {
      "text/html": [
       "<html><script type=\"math/tex; mode=display\">\\newcommand{\\Bold}[1]{\\mathbf{#1}}t \\ {\\mapsto}\\ \\frac{\\sinh\\left(t\\right)}{\\sqrt{\\frac{\\cosh\\left(t\\right)^{2} - 1}{\\cosh\\left(t\\right)^{2}}} \\cosh\\left(t\\right)^{2}} t \\ {\\mapsto}\\ \\frac{\\sinh\\left(t\\right)^{2}}{\\sqrt{\\frac{\\cosh\\left(t\\right)^{2} - 1}{\\cosh\\left(t\\right)^{2}}} \\cosh\\left(t\\right)^{2}}</script></html>"
      ],
      "text/plain": [
       "t |--> sinh(t)/(sqrt((cosh(t)^2 - 1)/cosh(t)^2)*cosh(t)^2) t |--> sinh(t)^2/(sqrt((cosh(t)^2 - 1)/cosh(t)^2)*cosh(t)^2)"
      ]
     },
     "metadata": {},
     "output_type": "display_data"
    },
    {
     "name": "stdout",
     "output_type": "stream",
     "text": [
      "Fem el determinant , ha de ser 1: \n"
     ]
    },
    {
     "data": {
      "text/html": [
       "<html><script type=\"math/tex; mode=display\">\\newcommand{\\Bold}[1]{\\mathbf{#1}}1</script></html>"
      ],
      "text/plain": [
       "1"
      ]
     },
     "metadata": {},
     "output_type": "display_data"
    }
   ],
   "source": [
    "import numpy as np\n",
    "\n",
    "\n",
    "#Definim funció i punts\n",
    "c(t)=[t-tanh(t),  1/cosh(t)] \n",
    "punt=[-1,1]\n",
    "\n",
    "\n",
    "#PRIMERA DERIVADA\n",
    "print('La primera derivada és: ')\n",
    "x1(t) = diff(c[0])\n",
    "y1(t) = diff(c[1])\n",
    "show(x1); show(y1)\n",
    "\n",
    "#FER LA SEGONA DERIVADA\n",
    "x2(t) = diff(x1)\n",
    "y2(t) = diff(y1)\n",
    "print(\"\\nLa segona derivada és: \")\n",
    "show(x2); show(y2)\n",
    "\n",
    "#FER LA TERCERA DERIVADA\n",
    "x3(t) = diff(x2)\n",
    "y3(t) = diff(y2)\n",
    "print(\"\\nLa tercera derivada és: \")\n",
    "show(x3); show(y3)\n",
    "\n",
    "\n",
    "\n",
    "# NORMA DEL VECTOR\n",
    "norma(t) = (((x1)**2)+ ((y1)**2))**(1/2)\n",
    "norma = norma.full_simplify()\n",
    "print(\"\\nFem la norma de la primera derivada: \"); show(norma)\n",
    "\n",
    "# INTEGRAL DE LA NORMA\n",
    "integral= integrate(norma, t)\n",
    "print(\"\\nFem la integral de la norma\"); show(integral)\n",
    "long_arc= ((x1**2)+(y1**2))**(1/2)\n",
    "integral_definida= integrate(long_arc,t,punt[0],punt[1])\n",
    "print(\"\\nFem la longitud de l'arc:\"); show(integral_definida)\n",
    "print('#############################################################################################')\n",
    "\n",
    "#Formula curvatura\n",
    "print('\\nFem el determinant matriu derivades 1 i 2, numerador: ')\n",
    "det = matrix(SR, 2,2, [[x1, y1],[x2, y2]]).determinant(); show(det)\n",
    "\n",
    "print('\\nCalculem la norma elevat a 3, denominador: ')\n",
    "denominador = norma**3; show(denominador.full_simplify())\n",
    "\n",
    "curvatura = det/denominador\n",
    "print(\"\\nFem la curvatura:\"); show(curvatura.simplify_full())\n",
    "\n",
    "\n",
    "#Biedre de frenet\n",
    "#Primer la T\n",
    "print(\"\\nBiedre de frenet:\")\n",
    "tx = (x1)/norma\n",
    "ty = (y1)/norma\n",
    "print('T:')\n",
    "show(tx.full_simplify(), ty.full_simplify())\n",
    "\n",
    "#Calculem la B, per calcular la N\n",
    "print('\\nCalulem la N, invertim ordre i canviem signe de T: ')\n",
    "print('N:')\n",
    "Nx = -ty\n",
    "Ny = tx\n",
    "show(Nx.full_simplify(), Ny.full_simplify())\n",
    "print('Fem el determinant , ha de ser 1: ')\n",
    "det1 = matrix(SR, 2,2, [[tx, ty],[Nx, Ny]]).determinant(); show(det1.full_simplify())"
   ]
  },
  {
   "cell_type": "code",
   "execution_count": null,
   "metadata": {},
   "outputs": [],
   "source": []
  }
 ],
 "metadata": {
  "kernelspec": {
   "display_name": "SageMath 8.8",
   "language": "sage",
   "name": "sagemath"
  },
  "language_info": {
   "codemirror_mode": {
    "name": "ipython",
    "version": 2
   },
   "file_extension": ".py",
   "mimetype": "text/x-python",
   "name": "python",
   "nbconvert_exporter": "python",
   "pygments_lexer": "ipython2",
   "version": "2.7.15"
  }
 },
 "nbformat": 4,
 "nbformat_minor": 2
}
