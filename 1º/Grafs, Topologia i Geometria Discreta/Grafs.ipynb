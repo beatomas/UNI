{
 "cells": [
  {
   "cell_type": "code",
   "execution_count": 5,
   "metadata": {},
   "outputs": [
    {
     "name": "stdout",
     "output_type": "stream",
     "text": [
      "('CORBATURA: ', 0.12195957862259113)\n",
      "('TORSIO: ', -0.150320801874131)\n",
      "('VECTOR TANGENT: ', 0.948766968415202, -0.168893980834275, -0.267050674745784)\n",
      "('VECTOR BINORMAL: ', 0.10973447918503397, -0.616436705634672, 0.7797205473913471)\n"
     ]
    }
   ],
   "source": [
    "import numpy as np\n",
    "\n",
    "\n",
    "c(t)=[1.3*exp(t),  1.4*exp(-t),  -0.9*t] \n",
    "\n",
    "x1(t) = diff(c[0])\n",
    "y1(t) = diff(c[1])\n",
    "z1(t) = diff(c[2])\n",
    "\n",
    "x2(t) = diff(x1)\n",
    "y2(t) = diff(y1)\n",
    "z2(t) = diff(z1)\n",
    "\n",
    "x3(t) = diff(x2)\n",
    "y3(t) = diff(y2)\n",
    "z3(t) = diff(z2)\n",
    "\n",
    "\n",
    "t = 0.9\n",
    "\n",
    "a = np.array([x1(t).n(),y1(t).n(),z1(t).n()])\n",
    "b = np.array([x2(t).n(),y2(t).n(),z2(t).n()])\n",
    "\n",
    "v = np.cross(a,b)\n",
    "\n",
    "norma = (((v[0])**2)+ ((v[1])**2)+ ((v[2])**2))**0.5\n",
    "\n",
    "\n",
    "norma_2 = norma**2\n",
    "\n",
    "norma_c = (((x1(t).n())**2)+ ((y1(t).n())**2)+ ((z1(t).n())**2))**0.5\n",
    "\n",
    "norma_c1 = ((((x1(t).n())**2)+ ((y1(t).n())**2)+ ((z1(t).n())**2))**0.5)**3\n",
    "\n",
    "corbatura = norma/norma_c1\n",
    "print(\"CORBATURA: \",corbatura)\n",
    "M = matrix(SR, 3, 3, [x1(t),y1(t),z1(t),x2(t),y2(t),z2(t),x3(t),y3(t),z3(t)])\n",
    "det = M.determinant()\n",
    "\n",
    "    \n",
    "torsio = -det/norma_2\n",
    "print('TORSIO: ',torsio)\n",
    "\n",
    "\n",
    "v1 = x1(t)/norma_c\n",
    "v2 = y1(t)/norma_c\n",
    "v3 = z1(t)/norma_c\n",
    "print(\"VECTOR TANGENT: \",v1,v2,v3)\n",
    "\n",
    "\n",
    "b1 = v[0]/norma\n",
    "b2 = v[1]/norma\n",
    "b3 = v[2]/norma\n",
    "\n",
    "print(\"VECTOR BINORMAL: \",b1,b2,b3)\n",
    "\n",
    "\n"
   ]
  },
  {
   "cell_type": "code",
   "execution_count": null,
   "metadata": {},
   "outputs": [],
   "source": []
  },
  {
   "cell_type": "code",
   "execution_count": null,
   "metadata": {},
   "outputs": [],
   "source": []
  }
 ],
 "metadata": {
  "kernelspec": {
   "display_name": "SageMath 8.8",
   "language": "sage",
   "name": "sagemath"
  },
  "language_info": {
   "codemirror_mode": {
    "name": "ipython",
    "version": 2
   },
   "file_extension": ".py",
   "mimetype": "text/x-python",
   "name": "python",
   "nbconvert_exporter": "python",
   "pygments_lexer": "ipython2",
   "version": "2.7.15"
  }
 },
 "nbformat": 4,
 "nbformat_minor": 2
}
