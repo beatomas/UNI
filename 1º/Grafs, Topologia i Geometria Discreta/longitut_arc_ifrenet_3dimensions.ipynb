{
 "cells": [
  {
   "cell_type": "code",
   "execution_count": 38,
   "metadata": {},
   "outputs": [
    {
     "name": "stdout",
     "output_type": "stream",
     "text": [
      "\n",
      "Primera derivada: \n"
     ]
    },
    {
     "data": {
      "text/html": [
       "<html><script type=\"math/tex; mode=display\">\\newcommand{\\Bold}[1]{\\mathbf{#1}}t \\ {\\mapsto}\\ 1.00000000000000 \\, e^{t} t \\ {\\mapsto}\\ -0.900000000000000 \\, e^{\\left(-t\\right)} t \\ {\\mapsto}\\ -0.400000000000000</script></html>"
      ],
      "text/plain": [
       "t |--> 1.00000000000000*e^t t |--> -0.900000000000000*e^(-t) t |--> -0.400000000000000"
      ]
     },
     "metadata": {},
     "output_type": "display_data"
    },
    {
     "name": "stdout",
     "output_type": "stream",
     "text": [
      "\n",
      "Segona derivada: \n"
     ]
    },
    {
     "data": {
      "text/html": [
       "<html><script type=\"math/tex; mode=display\">\\newcommand{\\Bold}[1]{\\mathbf{#1}}t \\ {\\mapsto}\\ 1.00000000000000 \\, e^{t} t \\ {\\mapsto}\\ 0.900000000000000 \\, e^{\\left(-t\\right)} t \\ {\\mapsto}\\ 0</script></html>"
      ],
      "text/plain": [
       "t |--> 1.00000000000000*e^t t |--> 0.900000000000000*e^(-t) t |--> 0"
      ]
     },
     "metadata": {},
     "output_type": "display_data"
    },
    {
     "name": "stdout",
     "output_type": "stream",
     "text": [
      "\n",
      "Tercera derivada: \n"
     ]
    },
    {
     "data": {
      "text/html": [
       "<html><script type=\"math/tex; mode=display\">\\newcommand{\\Bold}[1]{\\mathbf{#1}}t \\ {\\mapsto}\\ 1.00000000000000 \\, e^{t} t \\ {\\mapsto}\\ -0.900000000000000 \\, e^{\\left(-t\\right)} t \\ {\\mapsto}\\ 0</script></html>"
      ],
      "text/plain": [
       "t |--> 1.00000000000000*e^t t |--> -0.900000000000000*e^(-t) t |--> 0"
      ]
     },
     "metadata": {},
     "output_type": "display_data"
    },
    {
     "name": "stdout",
     "output_type": "stream",
     "text": [
      "\n",
      "Calculem la curvatura: \n",
      "Producte vectorial 1er 2n derivada: \n"
     ]
    },
    {
     "data": {
      "text/html": [
       "<html><script type=\"math/tex; mode=display\">\\newcommand{\\Bold}[1]{\\mathbf{#1}}\\left(0.360000000000000 \\, e^{\\left(-t\\right)},\\,-0.400000000000000 \\, e^{t},\\,1.80000000000000\\right)</script></html>"
      ],
      "text/plain": [
       "(0.360000000000000*e^(-t), -0.400000000000000*e^t, 1.80000000000000)"
      ]
     },
     "metadata": {},
     "output_type": "display_data"
    },
    {
     "name": "stdout",
     "output_type": "stream",
     "text": [
      "Norma del producte vectorial, numerador: \n"
     ]
    },
    {
     "data": {
      "text/html": [
       "<html><script type=\"math/tex; mode=display\">\\newcommand{\\Bold}[1]{\\mathbf{#1}}\\sqrt{0.16 \\, e^{\\left(4 \\, t\\right)} + 3.24 \\, e^{\\left(2 \\, t\\right)} + 0.1296} e^{\\left(-t\\right)}</script></html>"
      ],
      "text/plain": [
       "sqrt(0.16*e^(4*t) + 3.24*e^(2*t) + 0.1296)*e^(-t)"
      ]
     },
     "metadata": {},
     "output_type": "display_data"
    },
    {
     "name": "stdout",
     "output_type": "stream",
     "text": [
      "Norma de la 1r derivada elevada a 3, denominador: \n"
     ]
    },
    {
     "data": {
      "text/html": [
       "<html><script type=\"math/tex; mode=display\">\\newcommand{\\Bold}[1]{\\mathbf{#1}}{\\left(1.0 \\, e^{\\left(4 \\, t\\right)} + 0.16 \\, e^{\\left(2 \\, t\\right)} + 0.81\\right)}^{\\frac{3}{2}} e^{\\left(-3 \\, t\\right)}</script></html>"
      ],
      "text/plain": [
       "(1.0*e^(4*t) + 0.16*e^(2*t) + 0.81)^(3/2)*e^(-3*t)"
      ]
     },
     "metadata": {},
     "output_type": "display_data"
    },
    {
     "name": "stdout",
     "output_type": "stream",
     "text": [
      "Curvatura, numerador/denominador: \n"
     ]
    },
    {
     "data": {
      "text/html": [
       "<html><script type=\"math/tex; mode=display\">\\newcommand{\\Bold}[1]{\\mathbf{#1}}\\frac{\\sqrt{0.16 \\, e^{\\left(4 \\, t\\right)} + 3.24 \\, e^{\\left(2 \\, t\\right)} + 0.1296} e^{\\left(2 \\, t\\right)}}{{\\left(1.0 \\, e^{\\left(4 \\, t\\right)} + 0.16 \\, e^{\\left(2 \\, t\\right)} + 0.81\\right)}^{\\frac{3}{2}}}</script></html>"
      ],
      "text/plain": [
       "sqrt(0.16*e^(4*t) + 3.24*e^(2*t) + 0.1296)*e^(2*t)/(1.0*e^(4*t) + 0.16*e^(2*t) + 0.81)^(3/2)"
      ]
     },
     "metadata": {},
     "output_type": "display_data"
    },
    {
     "name": "stdout",
     "output_type": "stream",
     "text": [
      "\n",
      "#####################################################################\n",
      "\n",
      "Anem a calcular la torsió: \n",
      "Numerador: determinant de la primera, segona i tercera derivada: \n",
      "Matriu: \n"
     ]
    },
    {
     "data": {
      "text/html": [
       "<html><script type=\"math/tex; mode=display\">\\newcommand{\\Bold}[1]{\\mathbf{#1}}\\left(\\begin{array}{rrr}\n",
       "1.00000000000000 \\, e^{t} & -0.900000000000000 \\, e^{\\left(-t\\right)} & -0.400000000000000 \\\\\n",
       "1.00000000000000 \\, e^{t} & 0.900000000000000 \\, e^{\\left(-t\\right)} & 0 \\\\\n",
       "1.00000000000000 \\, e^{t} & -0.900000000000000 \\, e^{\\left(-t\\right)} & 0\n",
       "\\end{array}\\right)</script></html>"
      ],
      "text/plain": [
       "[     1.00000000000000*e^t -0.900000000000000*e^(-t)        -0.400000000000000]\n",
       "[     1.00000000000000*e^t  0.900000000000000*e^(-t)                         0]\n",
       "[     1.00000000000000*e^t -0.900000000000000*e^(-t)                         0]"
      ]
     },
     "metadata": {},
     "output_type": "display_data"
    },
    {
     "name": "stdout",
     "output_type": "stream",
     "text": [
      "Determinant Matriu: \n"
     ]
    },
    {
     "data": {
      "text/html": [
       "<html><script type=\"math/tex; mode=display\">\\newcommand{\\Bold}[1]{\\mathbf{#1}}0.720000000000000</script></html>"
      ],
      "text/plain": [
       "0.720000000000000"
      ]
     },
     "metadata": {},
     "output_type": "display_data"
    },
    {
     "name": "stdout",
     "output_type": "stream",
     "text": [
      "Dividim det entre la norma **2, denomiandor: \n",
      "Torsio: \n"
     ]
    },
    {
     "data": {
      "text/html": [
       "<html><script type=\"math/tex; mode=display\">\\newcommand{\\Bold}[1]{\\mathbf{#1}}-\\frac{0.7200000000000001 \\, e^{\\left(2 \\, t\\right)}}{0.16 \\, e^{\\left(4 \\, t\\right)} + 3.24 \\, e^{\\left(2 \\, t\\right)} + 0.1296}</script></html>"
      ],
      "text/plain": [
       "-0.7200000000000001*e^(2*t)/(0.16*e^(4*t) + 3.24*e^(2*t) + 0.1296)"
      ]
     },
     "metadata": {},
     "output_type": "display_data"
    },
    {
     "name": "stdout",
     "output_type": "stream",
     "text": [
      "\n",
      "#####################################################################\n",
      "\n",
      "Tiedre de frenet: \n",
      "Calculem la T, primera derivada entre la seva norma: \n"
     ]
    },
    {
     "data": {
      "text/html": [
       "<html><script type=\"math/tex; mode=display\">\\newcommand{\\Bold}[1]{\\mathbf{#1}}\\frac{1.0 \\, e^{\\left(2 \\, t\\right)}}{\\sqrt{1.0 \\, e^{\\left(4 \\, t\\right)} + 0.16 \\, e^{\\left(2 \\, t\\right)} + 0.81}} -\\frac{0.9}{\\sqrt{1.0 \\, e^{\\left(4 \\, t\\right)} + 0.16 \\, e^{\\left(2 \\, t\\right)} + 0.81}} -\\frac{0.4 \\, e^{t}}{\\sqrt{1.0 \\, e^{\\left(4 \\, t\\right)} + 0.16 \\, e^{\\left(2 \\, t\\right)} + 0.81}}</script></html>"
      ],
      "text/plain": [
       "1.0*e^(2*t)/sqrt(1.0*e^(4*t) + 0.16*e^(2*t) + 0.81) -0.9/sqrt(1.0*e^(4*t) + 0.16*e^(2*t) + 0.81) -0.4*e^t/sqrt(1.0*e^(4*t) + 0.16*e^(2*t) + 0.81)"
      ]
     },
     "metadata": {},
     "output_type": "display_data"
    },
    {
     "name": "stdout",
     "output_type": "stream",
     "text": [
      "\n",
      "Calculem la B, numerador (prod_vect 1r, 2n derivada): \n"
     ]
    },
    {
     "data": {
      "text/html": [
       "<html><script type=\"math/tex; mode=display\">\\newcommand{\\Bold}[1]{\\mathbf{#1}}\\left(0.360000000000000 \\, e^{\\left(-t\\right)},\\,-0.400000000000000 \\, e^{t},\\,1.80000000000000\\right)</script></html>"
      ],
      "text/plain": [
       "(0.360000000000000*e^(-t), -0.400000000000000*e^t, 1.80000000000000)"
      ]
     },
     "metadata": {},
     "output_type": "display_data"
    },
    {
     "name": "stdout",
     "output_type": "stream",
     "text": [
      "Denominador, norma product vect 1r, 2n derivada: \n"
     ]
    },
    {
     "data": {
      "text/html": [
       "<html><script type=\"math/tex; mode=display\">\\newcommand{\\Bold}[1]{\\mathbf{#1}}\\sqrt{0.16 \\, e^{\\left(4 \\, t\\right)} + 3.24 \\, e^{\\left(2 \\, t\\right)} + 0.1296} e^{\\left(-t\\right)}</script></html>"
      ],
      "text/plain": [
       "sqrt(0.16*e^(4*t) + 3.24*e^(2*t) + 0.1296)*e^(-t)"
      ]
     },
     "metadata": {},
     "output_type": "display_data"
    },
    {
     "name": "stdout",
     "output_type": "stream",
     "text": [
      "b: \n"
     ]
    },
    {
     "data": {
      "text/html": [
       "<html><script type=\"math/tex; mode=display\">\\newcommand{\\Bold}[1]{\\mathbf{#1}}\\frac{0.36}{\\sqrt{0.16 \\, e^{\\left(4 \\, t\\right)} + 3.24 \\, e^{\\left(2 \\, t\\right)} + 0.1296}} -\\frac{0.4 \\, e^{\\left(2 \\, t\\right)}}{\\sqrt{0.16 \\, e^{\\left(4 \\, t\\right)} + 3.24 \\, e^{\\left(2 \\, t\\right)} + 0.1296}} \\frac{1.8 \\, e^{t}}{\\sqrt{0.16 \\, e^{\\left(4 \\, t\\right)} + 3.24 \\, e^{\\left(2 \\, t\\right)} + 0.1296}}</script></html>"
      ],
      "text/plain": [
       "0.36/sqrt(0.16*e^(4*t) + 3.24*e^(2*t) + 0.1296) -0.4*e^(2*t)/sqrt(0.16*e^(4*t) + 3.24*e^(2*t) + 0.1296) 1.8*e^t/sqrt(0.16*e^(4*t) + 3.24*e^(2*t) + 0.1296)"
      ]
     },
     "metadata": {},
     "output_type": "display_data"
    },
    {
     "name": "stdout",
     "output_type": "stream",
     "text": [
      "\n",
      "Calculem la N, producte vectoria b i t: \n"
     ]
    },
    {
     "data": {
      "text/html": [
       "<html><script type=\"math/tex; mode=display\">\\newcommand{\\Bold}[1]{\\mathbf{#1}}\\frac{0.16 \\, e^{\\left(3 \\, t\\right)} + 1.62 \\, e^{t}}{\\sqrt{1.0 \\, e^{\\left(4 \\, t\\right)} + 0.16 \\, e^{\\left(2 \\, t\\right)} + 0.81} \\sqrt{0.16 \\, e^{\\left(4 \\, t\\right)} + 3.24 \\, e^{\\left(2 \\, t\\right)} + 0.1296}} \\frac{1.8 \\, e^{\\left(3 \\, t\\right)} + 0.144 \\, e^{t}}{\\sqrt{1.0 \\, e^{\\left(4 \\, t\\right)} + 0.16 \\, e^{\\left(2 \\, t\\right)} + 0.81} \\sqrt{0.16 \\, e^{\\left(4 \\, t\\right)} + 3.24 \\, e^{\\left(2 \\, t\\right)} + 0.1296}} \\frac{0.4 \\, e^{\\left(4 \\, t\\right)} - 0.3240000000000001}{\\sqrt{1.0 \\, e^{\\left(4 \\, t\\right)} + 0.16 \\, e^{\\left(2 \\, t\\right)} + 0.81} \\sqrt{0.16 \\, e^{\\left(4 \\, t\\right)} + 3.24 \\, e^{\\left(2 \\, t\\right)} + 0.1296}}</script></html>"
      ],
      "text/plain": [
       "(0.16*e^(3*t) + 1.62*e^t)/(sqrt(1.0*e^(4*t) + 0.16*e^(2*t) + 0.81)*sqrt(0.16*e^(4*t) + 3.24*e^(2*t) + 0.1296)) (1.8*e^(3*t) + 0.144*e^t)/(sqrt(1.0*e^(4*t) + 0.16*e^(2*t) + 0.81)*sqrt(0.16*e^(4*t) + 3.24*e^(2*t) + 0.1296)) (0.4*e^(4*t) - 0.3240000000000001)/(sqrt(1.0*e^(4*t) + 0.16*e^(2*t) + 0.81)*sqrt(0.16*e^(4*t) + 3.24*e^(2*t) + 0.1296))"
      ]
     },
     "metadata": {},
     "output_type": "display_data"
    }
   ],
   "source": [
    "import numpy as np\n",
    "#No en funció de T\n",
    "\n",
    "c(t)=[1.0*exp(t),  0.9*exp(-t),  -0.4*t] \n",
    "\n",
    "print('\\nPrimera derivada: ')\n",
    "x1(t) = diff(c[0])\n",
    "y1(t) = diff(c[1])\n",
    "z1(t) = diff(c[2])\n",
    "show(x1, y1, z1)\n",
    "\n",
    "print('\\nSegona derivada: ')\n",
    "x2(t) = diff(x1)\n",
    "y2(t) = diff(y1)\n",
    "z2(t) = diff(z1)\n",
    "show(x2, y2, z2)\n",
    "\n",
    "print('\\nTercera derivada: ')\n",
    "x3(t) = diff(x2)\n",
    "y3(t) = diff(y2)\n",
    "z3(t) = diff(z2)\n",
    "show(x3, y3, z3)\n",
    "\n",
    "print('\\nCalculem la curvatura: ')\n",
    "print('Producte vectorial 1er 2n derivada: ')\n",
    "vect_primera_derivada = vector(SR, [x1, y1, z1])\n",
    "vect_segona_derivada =  vector(SR, [x2, y2, z2])\n",
    "a = vect_primera_derivada.cross_product(vect_segona_derivada); show(a)\n",
    "print('Norma del producte vectorial, numerador: ')\n",
    "norma = a.norm(); show(norma.full_simplify())\n",
    "print('Norma de la 1r derivada elevada a 3, denominador: ')\n",
    "norm = (vect_primera_derivada.norm())**3; show(norm.full_simplify())\n",
    "print('Curvatura, numerador/denominador: ')\n",
    "sol = norma/norm; show(sol.full_simplify())\n",
    "print('\\n#####################################################################\\n')\n",
    "print('Anem a calcular la torsió: ')\n",
    "print('Numerador: determinant de la primera, segona i tercera derivada: ')\n",
    "print('Matriu: ')\n",
    "matriu = matrix(SR, [[x1, y1, z1], [x2, y2, z2], [x3, y3, z3]]); show(matriu)\n",
    "print('Determinant Matriu: ')\n",
    "det = matriu.determinant(); show(det)\n",
    "print('Dividim det entre la norma **2, denomiandor: ')\n",
    "b = norma**2\n",
    "print('Torsio: ')\n",
    "torsio = -det/b; show(torsio.full_simplify())\n",
    "print('\\n#####################################################################\\n')\n",
    "print('Tiedre de frenet: ')\n",
    "print('Calculem la T, primera derivada entre la seva norma: ')\n",
    "miquel, barnils, bea = x1/vect_primera_derivada.norm(), y1/vect_primera_derivada.norm(), z1/vect_primera_derivada.norm()\n",
    "show(miquel.full_simplify(), barnils.full_simplify(), bea.full_simplify())\n",
    "print('\\nCalculem la B, numerador (prod_vect 1r, 2n derivada): '); show(a)\n",
    "print('Denominador, norma product vect 1r, 2n derivada: '); show(norma.full_simplify())\n",
    "print('b: ')\n",
    "a0 = a[0]/norma\n",
    "a1 = a[1]/norma\n",
    "a2 = a[2]/norma\n",
    "show(a0.full_simplify(), a1.full_simplify(), a2.full_simplify())\n",
    "print('\\nCalculem la N, producte vectoria b i t: ')\n",
    "vect_b = vector(SR, [a0, a1, a2])\n",
    "vect_T = vector(SR, [miquel, barnils, bea])\n",
    "N = vect_b.cross_product(vect_T)\n",
    "show(N[0].full_simplify(), N[1].full_simplify(), N[2].full_simplify())"
   ]
  },
  {
   "cell_type": "code",
   "execution_count": null,
   "metadata": {},
   "outputs": [],
   "source": []
  }
 ],
 "metadata": {
  "kernelspec": {
   "display_name": "SageMath 8.8",
   "language": "sage",
   "name": "sagemath"
  },
  "language_info": {
   "codemirror_mode": {
    "name": "ipython",
    "version": 2
   },
   "file_extension": ".py",
   "mimetype": "text/x-python",
   "name": "python",
   "nbconvert_exporter": "python",
   "pygments_lexer": "ipython2",
   "version": "2.7.15"
  }
 },
 "nbformat": 4,
 "nbformat_minor": 2
}
