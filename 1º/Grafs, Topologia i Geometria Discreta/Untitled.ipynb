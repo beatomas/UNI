{
 "cells": [
  {
   "cell_type": "code",
   "execution_count": 36,
   "metadata": {
    "scrolled": false
   },
   "outputs": [
    {
     "name": "stdout",
     "output_type": "stream",
     "text": [
      "Derivada de x respecte u:\n"
     ]
    },
    {
     "data": {
      "text/html": [
       "<html><script type=\"math/tex; mode=display\">\\newcommand{\\Bold}[1]{\\mathbf{#1}}-b \\cos\\left(v\\right) \\sin\\left(u\\right)</script></html>"
      ],
      "text/plain": [
       "-b*cos(v)*sin(u)"
      ]
     },
     "metadata": {},
     "output_type": "display_data"
    },
    {
     "name": "stdout",
     "output_type": "stream",
     "text": [
      "\n",
      "Derivada de x1 respecte v:\n"
     ]
    },
    {
     "data": {
      "text/html": [
       "<html><script type=\"math/tex; mode=display\">\\newcommand{\\Bold}[1]{\\mathbf{#1}}-b \\cos\\left(u\\right) \\sin\\left(v\\right)</script></html>"
      ],
      "text/plain": [
       "-b*cos(u)*sin(v)"
      ]
     },
     "metadata": {},
     "output_type": "display_data"
    },
    {
     "name": "stdout",
     "output_type": "stream",
     "text": [
      "\n",
      "Derivada de y respecte u:\n"
     ]
    },
    {
     "data": {
      "text/html": [
       "<html><script type=\"math/tex; mode=display\">\\newcommand{\\Bold}[1]{\\mathbf{#1}}-b \\sin\\left(u\\right) \\sin\\left(v\\right)</script></html>"
      ],
      "text/plain": [
       "-b*sin(u)*sin(v)"
      ]
     },
     "metadata": {},
     "output_type": "display_data"
    },
    {
     "name": "stdout",
     "output_type": "stream",
     "text": [
      "\n",
      "Derivada de y respecte v:\n"
     ]
    },
    {
     "data": {
      "text/html": [
       "<html><script type=\"math/tex; mode=display\">\\newcommand{\\Bold}[1]{\\mathbf{#1}}b \\cos\\left(u\\right) \\cos\\left(v\\right)</script></html>"
      ],
      "text/plain": [
       "b*cos(u)*cos(v)"
      ]
     },
     "metadata": {},
     "output_type": "display_data"
    },
    {
     "name": "stdout",
     "output_type": "stream",
     "text": [
      "\n",
      "Derivada de z respecte u:\n"
     ]
    },
    {
     "data": {
      "text/html": [
       "<html><script type=\"math/tex; mode=display\">\\newcommand{\\Bold}[1]{\\mathbf{#1}}v \\cos\\left(u\\right)</script></html>"
      ],
      "text/plain": [
       "v*cos(u)"
      ]
     },
     "metadata": {},
     "output_type": "display_data"
    },
    {
     "name": "stdout",
     "output_type": "stream",
     "text": [
      "\n",
      "Derivada de z respecte v:\n"
     ]
    },
    {
     "data": {
      "text/html": [
       "<html><script type=\"math/tex; mode=display\">\\newcommand{\\Bold}[1]{\\mathbf{#1}}v \\sin\\left(u\\right)</script></html>"
      ],
      "text/plain": [
       "v*sin(u)"
      ]
     },
     "metadata": {},
     "output_type": "display_data"
    },
    {
     "name": "stdout",
     "output_type": "stream",
     "text": [
      "\n",
      "Derivada de x respecte uu:\n"
     ]
    },
    {
     "data": {
      "text/html": [
       "<html><script type=\"math/tex; mode=display\">\\newcommand{\\Bold}[1]{\\mathbf{#1}}-b \\cos\\left(u\\right) \\cos\\left(v\\right)</script></html>"
      ],
      "text/plain": [
       "-b*cos(u)*cos(v)"
      ]
     },
     "metadata": {},
     "output_type": "display_data"
    },
    {
     "name": "stdout",
     "output_type": "stream",
     "text": [
      "\n",
      "Derivada de y respecte uu:\n"
     ]
    },
    {
     "data": {
      "text/html": [
       "<html><script type=\"math/tex; mode=display\">\\newcommand{\\Bold}[1]{\\mathbf{#1}}-b \\cos\\left(u\\right) \\sin\\left(v\\right)</script></html>"
      ],
      "text/plain": [
       "-b*cos(u)*sin(v)"
      ]
     },
     "metadata": {},
     "output_type": "display_data"
    },
    {
     "name": "stdout",
     "output_type": "stream",
     "text": [
      "\n",
      "Derivada de z respecte uu:\n"
     ]
    },
    {
     "data": {
      "text/html": [
       "<html><script type=\"math/tex; mode=display\">\\newcommand{\\Bold}[1]{\\mathbf{#1}}-v \\sin\\left(u\\right)</script></html>"
      ],
      "text/plain": [
       "-v*sin(u)"
      ]
     },
     "metadata": {},
     "output_type": "display_data"
    },
    {
     "name": "stdout",
     "output_type": "stream",
     "text": [
      "\n",
      "Derivada de x respecte vv:\n"
     ]
    },
    {
     "data": {
      "text/html": [
       "<html><script type=\"math/tex; mode=display\">\\newcommand{\\Bold}[1]{\\mathbf{#1}}-b \\cos\\left(u\\right) \\cos\\left(v\\right)</script></html>"
      ],
      "text/plain": [
       "-b*cos(u)*cos(v)"
      ]
     },
     "metadata": {},
     "output_type": "display_data"
    },
    {
     "name": "stdout",
     "output_type": "stream",
     "text": [
      "\n",
      "Derivada de y respecte vv:\n"
     ]
    },
    {
     "data": {
      "text/html": [
       "<html><script type=\"math/tex; mode=display\">\\newcommand{\\Bold}[1]{\\mathbf{#1}}-b \\cos\\left(u\\right) \\sin\\left(v\\right)</script></html>"
      ],
      "text/plain": [
       "-b*cos(u)*sin(v)"
      ]
     },
     "metadata": {},
     "output_type": "display_data"
    },
    {
     "name": "stdout",
     "output_type": "stream",
     "text": [
      "\n",
      "Derivada de z respecte vv:\n"
     ]
    },
    {
     "data": {
      "text/html": [
       "<html><script type=\"math/tex; mode=display\">\\newcommand{\\Bold}[1]{\\mathbf{#1}}0</script></html>"
      ],
      "text/plain": [
       "0"
      ]
     },
     "metadata": {},
     "output_type": "display_data"
    },
    {
     "name": "stdout",
     "output_type": "stream",
     "text": [
      "\n",
      "Derivada de x respecte uv:\n"
     ]
    },
    {
     "data": {
      "text/html": [
       "<html><script type=\"math/tex; mode=display\">\\newcommand{\\Bold}[1]{\\mathbf{#1}}b \\sin\\left(u\\right) \\sin\\left(v\\right)</script></html>"
      ],
      "text/plain": [
       "b*sin(u)*sin(v)"
      ]
     },
     "metadata": {},
     "output_type": "display_data"
    },
    {
     "name": "stdout",
     "output_type": "stream",
     "text": [
      "\n",
      "Derivada de x respecte uv:\n"
     ]
    },
    {
     "data": {
      "text/html": [
       "<html><script type=\"math/tex; mode=display\">\\newcommand{\\Bold}[1]{\\mathbf{#1}}-b \\cos\\left(v\\right) \\sin\\left(u\\right)</script></html>"
      ],
      "text/plain": [
       "-b*cos(v)*sin(u)"
      ]
     },
     "metadata": {},
     "output_type": "display_data"
    },
    {
     "name": "stdout",
     "output_type": "stream",
     "text": [
      "\n",
      "Derivada de x respecte uv:\n"
     ]
    },
    {
     "data": {
      "text/html": [
       "<html><script type=\"math/tex; mode=display\">\\newcommand{\\Bold}[1]{\\mathbf{#1}}\\cos\\left(u\\right)</script></html>"
      ],
      "text/plain": [
       "cos(u)"
      ]
     },
     "metadata": {},
     "output_type": "display_data"
    },
    {
     "name": "stdout",
     "output_type": "stream",
     "text": [
      "-------------------------------------------------------------------------------------------------------\n",
      "\n",
      "Primera forma fonamental: \n",
      "E: \n"
     ]
    },
    {
     "data": {
      "text/html": [
       "<html><script type=\"math/tex; mode=display\">\\newcommand{\\Bold}[1]{\\mathbf{#1}}v^{2} \\cos\\left(u\\right)^{2} + b^{2} \\sin\\left(u\\right)^{2}</script></html>"
      ],
      "text/plain": [
       "v^2*cos(u)^2 + b^2*sin(u)^2"
      ]
     },
     "metadata": {},
     "output_type": "display_data"
    },
    {
     "name": "stdout",
     "output_type": "stream",
     "text": [
      "G: \n"
     ]
    },
    {
     "data": {
      "text/html": [
       "<html><script type=\"math/tex; mode=display\">\\newcommand{\\Bold}[1]{\\mathbf{#1}}{\\left(b^{2} - 1\\right)} \\cos\\left(u\\right)^{2} + 1</script></html>"
      ],
      "text/plain": [
       "(b^2 - 1)*cos(u)^2 + 1"
      ]
     },
     "metadata": {},
     "output_type": "display_data"
    },
    {
     "name": "stdout",
     "output_type": "stream",
     "text": [
      "F: \n"
     ]
    },
    {
     "data": {
      "text/html": [
       "<html><script type=\"math/tex; mode=display\">\\newcommand{\\Bold}[1]{\\mathbf{#1}}v \\cos\\left(u\\right) \\sin\\left(u\\right)</script></html>"
      ],
      "text/plain": [
       "v*cos(u)*sin(u)"
      ]
     },
     "metadata": {},
     "output_type": "display_data"
    },
    {
     "name": "stdout",
     "output_type": "stream",
     "text": [
      "-------------------------------------------------------------------------------------------------------\n",
      "\n",
      "\n",
      "Numerador de la N: \n"
     ]
    },
    {
     "data": {
      "text/html": [
       "<html><script type=\"math/tex; mode=display\">\\newcommand{\\Bold}[1]{\\mathbf{#1}}-b v \\cos\\left(u\\right)^{2} \\cos\\left(v\\right) - b \\sin\\left(u\\right)^{2} \\sin\\left(v\\right)</script></html>"
      ],
      "text/plain": [
       "-b*v*cos(u)^2*cos(v) - b*sin(u)^2*sin(v)"
      ]
     },
     "metadata": {},
     "output_type": "display_data"
    },
    {
     "data": {
      "text/html": [
       "<html><script type=\"math/tex; mode=display\">\\newcommand{\\Bold}[1]{\\mathbf{#1}}-b v \\cos\\left(u\\right)^{2} \\sin\\left(v\\right) + b \\cos\\left(v\\right) \\sin\\left(u\\right)^{2}</script></html>"
      ],
      "text/plain": [
       "-b*v*cos(u)^2*sin(v) + b*cos(v)*sin(u)^2"
      ]
     },
     "metadata": {},
     "output_type": "display_data"
    },
    {
     "data": {
      "text/html": [
       "<html><script type=\"math/tex; mode=display\">\\newcommand{\\Bold}[1]{\\mathbf{#1}}-b^{2} \\cos\\left(u\\right) \\sin\\left(u\\right)</script></html>"
      ],
      "text/plain": [
       "-b^2*cos(u)*sin(u)"
      ]
     },
     "metadata": {},
     "output_type": "display_data"
    },
    {
     "name": "stdout",
     "output_type": "stream",
     "text": [
      "\n",
      "Denominador de la N: \n"
     ]
    },
    {
     "data": {
      "text/html": [
       "<html><script type=\"math/tex; mode=display\">\\newcommand{\\Bold}[1]{\\mathbf{#1}}\\left( u, v \\right) \\ {\\mapsto} \\ \\sqrt{b^{2} v^{2} \\cos\\left(u\\right)^{4} + b^{4} \\cos\\left(u\\right)^{2} \\sin\\left(u\\right)^{2} + b^{2} \\sin\\left(u\\right)^{4}}</script></html>"
      ],
      "text/plain": [
       "(u, v) |--> sqrt(b^2*v^2*cos(u)^4 + b^4*cos(u)^2*sin(u)^2 + b^2*sin(u)^4)"
      ]
     },
     "metadata": {},
     "output_type": "display_data"
    },
    {
     "name": "stdout",
     "output_type": "stream",
     "text": [
      "\n",
      "N: \n"
     ]
    },
    {
     "data": {
      "text/html": [
       "<html><script type=\"math/tex; mode=display\">\\newcommand{\\Bold}[1]{\\mathbf{#1}}\\left( u, v \\right) \\ {\\mapsto} \\ -\\frac{b v \\cos\\left(u\\right)^{2} \\cos\\left(v\\right) + b \\sin\\left(u\\right)^{2} \\sin\\left(v\\right)}{\\sqrt{b^{2} v^{2} \\cos\\left(u\\right)^{4} + b^{4} \\cos\\left(u\\right)^{2} \\sin\\left(u\\right)^{2} + b^{2} \\sin\\left(u\\right)^{4}}}</script></html>"
      ],
      "text/plain": [
       "(u, v) |--> -(b*v*cos(u)^2*cos(v) + b*sin(u)^2*sin(v))/sqrt(b^2*v^2*cos(u)^4 + b^4*cos(u)^2*sin(u)^2 + b^2*sin(u)^4)"
      ]
     },
     "metadata": {},
     "output_type": "display_data"
    },
    {
     "data": {
      "text/html": [
       "<html><script type=\"math/tex; mode=display\">\\newcommand{\\Bold}[1]{\\mathbf{#1}}\\left( u, v \\right) \\ {\\mapsto} \\ -\\frac{b v \\cos\\left(u\\right)^{2} \\sin\\left(v\\right) - b \\cos\\left(v\\right) \\sin\\left(u\\right)^{2}}{\\sqrt{b^{2} v^{2} \\cos\\left(u\\right)^{4} + b^{4} \\cos\\left(u\\right)^{2} \\sin\\left(u\\right)^{2} + b^{2} \\sin\\left(u\\right)^{4}}}</script></html>"
      ],
      "text/plain": [
       "(u, v) |--> -(b*v*cos(u)^2*sin(v) - b*cos(v)*sin(u)^2)/sqrt(b^2*v^2*cos(u)^4 + b^4*cos(u)^2*sin(u)^2 + b^2*sin(u)^4)"
      ]
     },
     "metadata": {},
     "output_type": "display_data"
    },
    {
     "data": {
      "text/html": [
       "<html><script type=\"math/tex; mode=display\">\\newcommand{\\Bold}[1]{\\mathbf{#1}}\\left( u, v \\right) \\ {\\mapsto} \\ -\\frac{b^{2} \\cos\\left(u\\right) \\sin\\left(u\\right)}{\\sqrt{b^{2} v^{2} \\cos\\left(u\\right)^{4} + b^{4} \\cos\\left(u\\right)^{2} \\sin\\left(u\\right)^{2} + b^{2} \\sin\\left(u\\right)^{4}}}</script></html>"
      ],
      "text/plain": [
       "(u, v) |--> -b^2*cos(u)*sin(u)/sqrt(b^2*v^2*cos(u)^4 + b^4*cos(u)^2*sin(u)^2 + b^2*sin(u)^4)"
      ]
     },
     "metadata": {},
     "output_type": "display_data"
    },
    {
     "name": "stdout",
     "output_type": "stream",
     "text": [
      "-------------------------------------------------------------------------------------------------------\n",
      "\n",
      "\n",
      "Segona forma fonamental: \n",
      "\n",
      "e: \n"
     ]
    },
    {
     "data": {
      "text/html": [
       "<html><script type=\"math/tex; mode=display\">\\newcommand{\\Bold}[1]{\\mathbf{#1}}\\left( u, v \\right) \\ {\\mapsto} \\ \\frac{b^{2} v \\cos\\left(u\\right)}{\\sqrt{b^{2} v^{2} \\cos\\left(u\\right)^{4} + b^{4} \\cos\\left(u\\right)^{2} \\sin\\left(u\\right)^{2} + b^{2} \\sin\\left(u\\right)^{4}}}</script></html>"
      ],
      "text/plain": [
       "(u, v) |--> b^2*v*cos(u)/sqrt(b^2*v^2*cos(u)^4 + b^4*cos(u)^2*sin(u)^2 + b^2*sin(u)^4)"
      ]
     },
     "metadata": {},
     "output_type": "display_data"
    },
    {
     "name": "stdout",
     "output_type": "stream",
     "text": [
      "\n",
      "f: \n"
     ]
    },
    {
     "data": {
      "text/html": [
       "<html><script type=\"math/tex; mode=display\">\\newcommand{\\Bold}[1]{\\mathbf{#1}}\\left( u, v \\right) \\ {\\mapsto} \\ -\\frac{b^{2} \\sin\\left(u\\right)}{\\sqrt{b^{2} v^{2} \\cos\\left(u\\right)^{4} + b^{4} \\cos\\left(u\\right)^{2} \\sin\\left(u\\right)^{2} + b^{2} \\sin\\left(u\\right)^{4}}}</script></html>"
      ],
      "text/plain": [
       "(u, v) |--> -b^2*sin(u)/sqrt(b^2*v^2*cos(u)^4 + b^4*cos(u)^2*sin(u)^2 + b^2*sin(u)^4)"
      ]
     },
     "metadata": {},
     "output_type": "display_data"
    },
    {
     "name": "stdout",
     "output_type": "stream",
     "text": [
      "\n",
      "g: \n"
     ]
    },
    {
     "data": {
      "text/html": [
       "<html><script type=\"math/tex; mode=display\">\\newcommand{\\Bold}[1]{\\mathbf{#1}}\\left( u, v \\right) \\ {\\mapsto} \\ \\frac{\\sqrt{b^{2} v^{2} \\cos\\left(u\\right)^{4} + b^{4} \\cos\\left(u\\right)^{2} \\sin\\left(u\\right)^{2} + b^{2} \\sin\\left(u\\right)^{4}} v \\cos\\left(u\\right)^{3}}{v^{2} \\cos\\left(u\\right)^{4} + b^{2} \\cos\\left(u\\right)^{2} \\sin\\left(u\\right)^{2} + \\sin\\left(u\\right)^{4}}</script></html>"
      ],
      "text/plain": [
       "(u, v) |--> sqrt(b^2*v^2*cos(u)^4 + b^4*cos(u)^2*sin(u)^2 + b^2*sin(u)^4)*v*cos(u)^3/(v^2*cos(u)^4 + b^2*cos(u)^2*sin(u)^2 + sin(u)^4)"
      ]
     },
     "metadata": {},
     "output_type": "display_data"
    },
    {
     "name": "stdout",
     "output_type": "stream",
     "text": [
      "-------------------------------------------------------------------------------------------------------\n",
      "\n",
      "\n",
      "Curavatura de Gauss (K): \n",
      "\\K: \n"
     ]
    },
    {
     "data": {
      "text/html": [
       "<html><script type=\"math/tex; mode=display\">\\newcommand{\\Bold}[1]{\\mathbf{#1}}\\left( u, v \\right) \\ {\\mapsto} \\ \\frac{\\sqrt{b^{2} v^{2} \\cos\\left(u\\right)^{4} + b^{4} \\cos\\left(u\\right)^{2} \\sin\\left(u\\right)^{2} + b^{2} \\sin\\left(u\\right)^{4}}}{\\sqrt{\\frac{b^{2} v^{2} \\cos\\left(u\\right)^{4} + b^{2} \\cos\\left(u\\right)^{2} - b^{2}}{v^{2} \\cos\\left(u\\right)^{4} - {\\left(b^{2} - 1\\right)} \\cos\\left(u\\right)^{4} + {\\left(b^{2} - 2\\right)} \\cos\\left(u\\right)^{2} + 1}}}</script></html>"
      ],
      "text/plain": [
       "(u, v) |--> sqrt(b^2*v^2*cos(u)^4 + b^4*cos(u)^2*sin(u)^2 + b^2*sin(u)^4)/sqrt((b^2*v^2*cos(u)^4 + b^2*cos(u)^2 - b^2)/(v^2*cos(u)^4 - (b^2 - 1)*cos(u)^4 + (b^2 - 2)*cos(u)^2 + 1))"
      ]
     },
     "metadata": {},
     "output_type": "display_data"
    }
   ],
   "source": [
    "import numpy as np\n",
    "\n",
    "var('a', 'b')\n",
    "\n",
    "x1(u,v) = (a+b*cos(u)*cos(v))\n",
    "y2(u,v) = (a+b*cos(u)*sin(v))\n",
    "z3(u,v) = v*sin(u)\n",
    "\n",
    "#Per curvatura normal\n",
    "u_enunciat_curvatura_normal = 0\n",
    "v_enunciat_curvatura_normal = 0\n",
    "\n",
    "\n",
    "print('Derivada de x respecte u:')\n",
    "x1u(u,v) = diff(x1,u); show(x1u.full_simplify())\n",
    "print('\\nDerivada de x1 respecte v:')\n",
    "x1v(u,v) = diff(x1,v); show(x1v.full_simplify())\n",
    "\n",
    "print('\\nDerivada de y respecte u:')\n",
    "y2u(u,v) = diff(y2,u); show(y2u.full_simplify())\n",
    "print('\\nDerivada de y respecte v:')\n",
    "y2v(u,v) = diff(y2,v); show(y2v.full_simplify())\n",
    "\n",
    "print('\\nDerivada de z respecte u:')\n",
    "z3u(u,v) = diff(z3,u); show(z3u.full_simplify())\n",
    "print('\\nDerivada de z respecte v:')\n",
    "z3v(u,v) = diff(z3,v); show(z3.full_simplify())\n",
    "\n",
    "print('\\nDerivada de x respecte uu:')\n",
    "x1uu(u,v) = diff(x1u, u); show(x1uu.full_simplify())\n",
    "print('\\nDerivada de y respecte uu:')\n",
    "y2uu(u,v) = diff(y2u, u); show(y2uu.full_simplify())\n",
    "print('\\nDerivada de z respecte uu:')\n",
    "z3uu(u,v) = diff(z3u, u); show(z3uu.full_simplify())\n",
    "\n",
    "print('\\nDerivada de x respecte vv:')\n",
    "x1vv(u,v) = diff(x1v,v); show(x1vv.full_simplify())\n",
    "print('\\nDerivada de y respecte vv:')\n",
    "y2vv(u,v) = diff(y2v,v); show(y2vv.full_simplify())\n",
    "print('\\nDerivada de z respecte vv:')\n",
    "z3vv(u,v) = diff(z3v,v); show(z3vv.full_simplify())\n",
    "\n",
    "print('\\nDerivada de x respecte uv:')\n",
    "x1uv(u,v) = diff(x1u,v); show(x1uv.full_simplify())\n",
    "print('\\nDerivada de x respecte uv:')\n",
    "y2uv(u,v) = diff(x2u,v); show(x2uv.full_simplify())\n",
    "print('\\nDerivada de x respecte uv:')\n",
    "z3uv(u,v) = diff(x3u,v); show(x3uv.full_simplify())\n",
    "\n",
    "print('-------------------------------------------------------------------------------------------------------')\n",
    "print('\\nPrimera forma fonamental: ')\n",
    "print('E: ')\n",
    "E(u,v) = (x1u(u,v)**2) + (y2u(u,v)**2) + (z3u(u,v)**2); show(E.full_simplify())\n",
    "print('G: ')\n",
    "G(u,v) = (x1v(u,v)**2) + (y2v(u,v)**2) + (z3v(u,v)**2); show(G.full_simplify())\n",
    "print('F: ')\n",
    "F(u,v) = (x1u*x1v(u,v)) + (y2u(u,v)*y2v(u,v)) + (z3u(u,v)*z3v(u,v)); show(F.full_simplify())\n",
    "print('-------------------------------------------------------------------------------------------------------\\n')\n",
    "\n",
    "print('\\nNumerador de la N: ')\n",
    "vectu = vector(SR, [x1u, y2u, z3u])\n",
    "vectv = vector(SR, [x1v, y2v, z3v])\n",
    "numerador = vectu.cross_product(vectv); show(numerador[0].full_simplify()); show(numerador[1].full_simplify()); show(numerador[2].full_simplify())\n",
    "\n",
    "print('\\nDenominador de la N: ')\n",
    "denominador = ((E*G)-(F)**2)**(1/2); show(denominador.full_simplify())\n",
    "\n",
    "print('\\nN: ')\n",
    "N0 = numerador[0]/denominador; show(N0.full_simplify())\n",
    "N1 = numerador[1]/denominador; show(N1.full_simplify())\n",
    "N2 = numerador[2]/denominador; show(N2.full_simplify())\n",
    "\n",
    "\n",
    "print('-------------------------------------------------------------------------------------------------------\\n')\n",
    "print('\\nSegona forma fonamental: ')\n",
    "print('\\ne: ')\n",
    "e = (x1uu*N0)+(y2uu*N1)+(z3uu*N2); show(e.full_simplify())\n",
    "print('\\nf: ')\n",
    "f = (x1uv*N0)+(y2uv*N1)+(z3uv*N2); show(f.full_simplify())\n",
    "print('\\ng: ')\n",
    "g = (x1vv*N0)+(y2vv*N1)+(z3vv*N2); show(g.full_simplify())\n",
    "print('-------------------------------------------------------------------------------------------------------\\n')\n",
    "\n",
    "print('\\nCuravatura de Gauss (K): ')\n",
    "print('\\nK: ')\n",
    "knumerador = denominador.full_simplify()\n",
    "kdenominador = ((e*g)-(f)**2)**(1/2)\n",
    "K = knumerador / kdenominador.full_simplify(); show(K.full_simplify())\n",
    "\n",
    "print('\\nCurvatura normal: ')\n"
   ]
  },
  {
   "cell_type": "code",
   "execution_count": null,
   "metadata": {},
   "outputs": [],
   "source": []
  }
 ],
 "metadata": {
  "kernelspec": {
   "display_name": "SageMath 8.8",
   "language": "sage",
   "name": "sagemath"
  },
  "language_info": {
   "codemirror_mode": {
    "name": "ipython",
    "version": 2
   },
   "file_extension": ".py",
   "mimetype": "text/x-python",
   "name": "python",
   "nbconvert_exporter": "python",
   "pygments_lexer": "ipython2",
   "version": "2.7.15"
  }
 },
 "nbformat": 4,
 "nbformat_minor": 2
}
