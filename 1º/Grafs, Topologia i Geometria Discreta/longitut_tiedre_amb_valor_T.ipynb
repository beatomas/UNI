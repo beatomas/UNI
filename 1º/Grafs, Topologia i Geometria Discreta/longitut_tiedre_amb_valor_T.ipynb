{
 "cells": [
  {
   "cell_type": "code",
   "execution_count": 47,
   "metadata": {
    "collapsed": false
   },
   "outputs": [
    {
     "name": "stdout",
     "output_type": "stream",
     "text": [
      "\n",
      "Primera derivada: \n"
     ]
    },
    {
     "data": {
      "text/html": [
       "<html><script type=\"math/tex; mode=display\">\\newcommand{\\Bold}[1]{\\mathbf{#1}}t \\ {\\mapsto}\\ 0.300000000000000 \\, e^{t} t \\ {\\mapsto}\\ -0.600000000000000 \\, e^{\\left(-t\\right)} t \\ {\\mapsto}\\ -1.30000000000000</script></html>"
      ],
      "text/plain": [
       "t |--> 0.300000000000000*e^t t |--> -0.600000000000000*e^(-t) t |--> -1.30000000000000"
      ]
     },
     "execution_count": 47,
     "metadata": {
     },
     "output_type": "execute_result"
    },
    {
     "name": "stdout",
     "output_type": "stream",
     "text": [
      "\n",
      "Segona derivada: \n"
     ]
    },
    {
     "data": {
      "text/html": [
       "<html><script type=\"math/tex; mode=display\">\\newcommand{\\Bold}[1]{\\mathbf{#1}}t \\ {\\mapsto}\\ 0.300000000000000 \\, e^{t} t \\ {\\mapsto}\\ 0.600000000000000 \\, e^{\\left(-t\\right)} t \\ {\\mapsto}\\ 0</script></html>"
      ],
      "text/plain": [
       "t |--> 0.300000000000000*e^t t |--> 0.600000000000000*e^(-t) t |--> 0"
      ]
     },
     "execution_count": 47,
     "metadata": {
     },
     "output_type": "execute_result"
    },
    {
     "name": "stdout",
     "output_type": "stream",
     "text": [
      "\n",
      "Tercera derivada: \n"
     ]
    },
    {
     "data": {
      "text/html": [
       "<html><script type=\"math/tex; mode=display\">\\newcommand{\\Bold}[1]{\\mathbf{#1}}t \\ {\\mapsto}\\ 0.300000000000000 \\, e^{t} t \\ {\\mapsto}\\ -0.600000000000000 \\, e^{\\left(-t\\right)} t \\ {\\mapsto}\\ 0</script></html>"
      ],
      "text/plain": [
       "t |--> 0.300000000000000*e^t t |--> -0.600000000000000*e^(-t) t |--> 0"
      ]
     },
     "execution_count": 47,
     "metadata": {
     },
     "output_type": "execute_result"
    },
    {
     "name": "stdout",
     "output_type": "stream",
     "text": [
      "\n",
      "Calculem la curvatura: \n",
      "Producte vectorial 1er 2n derivada: \n"
     ]
    },
    {
     "data": {
      "text/html": [
       "<html><script type=\"math/tex; mode=display\">\\newcommand{\\Bold}[1]{\\mathbf{#1}}\\left(0.780000000000000 \\, e^{\\left(-t\\right)},\\,-0.390000000000000 \\, e^{t},\\,0.360000000000000\\right)</script></html>"
      ],
      "text/plain": [
       "(0.780000000000000*e^(-t), -0.390000000000000*e^t, 0.360000000000000)"
      ]
     },
     "execution_count": 47,
     "metadata": {
     },
     "output_type": "execute_result"
    },
    {
     "name": "stdout",
     "output_type": "stream",
     "text": [
      "Norma del producte vectorial, numerador: \n"
     ]
    },
    {
     "data": {
      "text/html": [
       "<html><script type=\"math/tex; mode=display\">\\newcommand{\\Bold}[1]{\\mathbf{#1}}\\sqrt{0.1521 \\, e^{\\left(4 \\, t\\right)} + 0.1296 \\, e^{\\left(2 \\, t\\right)} + 0.6084} e^{\\left(-t\\right)}</script></html>"
      ],
      "text/plain": [
       "sqrt(0.1521*e^(4*t) + 0.1296*e^(2*t) + 0.6084)*e^(-t)"
      ]
     },
     "execution_count": 47,
     "metadata": {
     },
     "output_type": "execute_result"
    },
    {
     "name": "stdout",
     "output_type": "stream",
     "text": [
      "Norma de la 1r derivada elevada a 3, denominador: \n"
     ]
    },
    {
     "data": {
      "text/html": [
       "<html><script type=\"math/tex; mode=display\">\\newcommand{\\Bold}[1]{\\mathbf{#1}}{\\left(0.09 \\, e^{\\left(4 \\, t\\right)} + 1.69 \\, e^{\\left(2 \\, t\\right)} + 0.36\\right)}^{\\frac{3}{2}} e^{\\left(-3 \\, t\\right)}</script></html>"
      ],
      "text/plain": [
       "(0.09*e^(4*t) + 1.69*e^(2*t) + 0.36)^(3/2)*e^(-3*t)"
      ]
     },
     "execution_count": 47,
     "metadata": {
     },
     "output_type": "execute_result"
    },
    {
     "name": "stdout",
     "output_type": "stream",
     "text": [
      "Curvatura, numerador/denominador: \n"
     ]
    },
    {
     "data": {
      "text/html": [
       "<html><script type=\"math/tex; mode=display\">\\newcommand{\\Bold}[1]{\\mathbf{#1}}\\frac{\\sqrt{0.1521 \\, e^{\\left(4 \\, t\\right)} + 0.1296 \\, e^{\\left(2 \\, t\\right)} + 0.6084} e^{\\left(2 \\, t\\right)}}{{\\left(0.09 \\, e^{\\left(4 \\, t\\right)} + 1.69 \\, e^{\\left(2 \\, t\\right)} + 0.36\\right)}^{\\frac{3}{2}}}</script></html>"
      ],
      "text/plain": [
       "sqrt(0.1521*e^(4*t) + 0.1296*e^(2*t) + 0.6084)*e^(2*t)/(0.09*e^(4*t) + 1.69*e^(2*t) + 0.36)^(3/2)"
      ]
     },
     "execution_count": 47,
     "metadata": {
     },
     "output_type": "execute_result"
    },
    {
     "name": "stdout",
     "output_type": "stream",
     "text": [
      "\n",
      "------------------------------------------------------------------------------------------------------------------------\n",
      "\n",
      "Anem a calcular la torsió: \n",
      "Numerador: determinant de la primera, segona i tercera derivada: \n",
      "Matriu: \n"
     ]
    },
    {
     "data": {
      "text/html": [
       "<html><script type=\"math/tex; mode=display\">\\newcommand{\\Bold}[1]{\\mathbf{#1}}\\left(\\begin{array}{rrr}\n",
       "0.300000000000000 \\, e^{t} & -0.600000000000000 \\, e^{\\left(-t\\right)} & -1.30000000000000 \\\\\n",
       "0.300000000000000 \\, e^{t} & 0.600000000000000 \\, e^{\\left(-t\\right)} & 0 \\\\\n",
       "0.300000000000000 \\, e^{t} & -0.600000000000000 \\, e^{\\left(-t\\right)} & 0\n",
       "\\end{array}\\right)</script></html>"
      ],
      "text/plain": [
       "[    0.300000000000000*e^t -0.600000000000000*e^(-t)         -1.30000000000000]\n",
       "[    0.300000000000000*e^t  0.600000000000000*e^(-t)                         0]\n",
       "[    0.300000000000000*e^t -0.600000000000000*e^(-t)                         0]"
      ]
     },
     "execution_count": 47,
     "metadata": {
     },
     "output_type": "execute_result"
    },
    {
     "name": "stdout",
     "output_type": "stream",
     "text": [
      "Determinant Matriu: \n"
     ]
    },
    {
     "data": {
      "text/html": [
       "<html><script type=\"math/tex; mode=display\">\\newcommand{\\Bold}[1]{\\mathbf{#1}}0.468000000000000</script></html>"
      ],
      "text/plain": [
       "0.468000000000000"
      ]
     },
     "execution_count": 47,
     "metadata": {
     },
     "output_type": "execute_result"
    },
    {
     "name": "stdout",
     "output_type": "stream",
     "text": [
      "Dividim det entre la norma **2, denomiandor: \n",
      "Torsio: \n"
     ]
    },
    {
     "data": {
      "text/html": [
       "<html><script type=\"math/tex; mode=display\">\\newcommand{\\Bold}[1]{\\mathbf{#1}}-\\frac{0.468 \\, e^{\\left(2 \\, t\\right)}}{0.1521 \\, e^{\\left(4 \\, t\\right)} + 0.1296 \\, e^{\\left(2 \\, t\\right)} + 0.6084}</script></html>"
      ],
      "text/plain": [
       "-0.468*e^(2*t)/(0.1521*e^(4*t) + 0.1296*e^(2*t) + 0.6084)"
      ]
     },
     "execution_count": 47,
     "metadata": {
     },
     "output_type": "execute_result"
    },
    {
     "name": "stdout",
     "output_type": "stream",
     "text": [
      "\n",
      "------------------------------------------------------------------------------------------------------------------------\n",
      "\n",
      "Tiedre de frenet: \n",
      "Calculem la T, primera derivada entre la seva norma: \n"
     ]
    },
    {
     "data": {
      "text/html": [
       "<html><script type=\"math/tex; mode=display\">\\newcommand{\\Bold}[1]{\\mathbf{#1}}\\frac{0.3 \\, e^{\\left(2 \\, t\\right)}}{\\sqrt{0.09 \\, e^{\\left(4 \\, t\\right)} + 1.69 \\, e^{\\left(2 \\, t\\right)} + 0.36}} -\\frac{0.6}{\\sqrt{0.09 \\, e^{\\left(4 \\, t\\right)} + 1.69 \\, e^{\\left(2 \\, t\\right)} + 0.36}} -\\frac{1.3 \\, e^{t}}{\\sqrt{0.09 \\, e^{\\left(4 \\, t\\right)} + 1.69 \\, e^{\\left(2 \\, t\\right)} + 0.36}}</script></html>"
      ],
      "text/plain": [
       "0.3*e^(2*t)/sqrt(0.09*e^(4*t) + 1.69*e^(2*t) + 0.36) -0.6/sqrt(0.09*e^(4*t) + 1.69*e^(2*t) + 0.36) -1.3*e^t/sqrt(0.09*e^(4*t) + 1.69*e^(2*t) + 0.36)"
      ]
     },
     "execution_count": 47,
     "metadata": {
     },
     "output_type": "execute_result"
    },
    {
     "name": "stdout",
     "output_type": "stream",
     "text": [
      "\n",
      "Calculem la B, numerador (prod_vect 1r, 2n derivada): \n"
     ]
    },
    {
     "data": {
      "text/html": [
       "<html><script type=\"math/tex; mode=display\">\\newcommand{\\Bold}[1]{\\mathbf{#1}}\\left(0.780000000000000 \\, e^{\\left(-t\\right)},\\,-0.390000000000000 \\, e^{t},\\,0.360000000000000\\right)</script></html>"
      ],
      "text/plain": [
       "(0.780000000000000*e^(-t), -0.390000000000000*e^t, 0.360000000000000)"
      ]
     },
     "execution_count": 47,
     "metadata": {
     },
     "output_type": "execute_result"
    },
    {
     "name": "stdout",
     "output_type": "stream",
     "text": [
      "Denominador, norma product vect 1r, 2n derivada: \n"
     ]
    },
    {
     "data": {
      "text/html": [
       "<html><script type=\"math/tex; mode=display\">\\newcommand{\\Bold}[1]{\\mathbf{#1}}\\sqrt{0.1521 \\, e^{\\left(4 \\, t\\right)} + 0.1296 \\, e^{\\left(2 \\, t\\right)} + 0.6084} e^{\\left(-t\\right)}</script></html>"
      ],
      "text/plain": [
       "sqrt(0.1521*e^(4*t) + 0.1296*e^(2*t) + 0.6084)*e^(-t)"
      ]
     },
     "execution_count": 47,
     "metadata": {
     },
     "output_type": "execute_result"
    },
    {
     "name": "stdout",
     "output_type": "stream",
     "text": [
      "b: \n"
     ]
    },
    {
     "data": {
      "text/html": [
       "<html><script type=\"math/tex; mode=display\">\\newcommand{\\Bold}[1]{\\mathbf{#1}}\\frac{0.78}{\\sqrt{0.1521 \\, e^{\\left(4 \\, t\\right)} + 0.1296 \\, e^{\\left(2 \\, t\\right)} + 0.6084}} -\\frac{0.39 \\, e^{\\left(2 \\, t\\right)}}{\\sqrt{0.1521 \\, e^{\\left(4 \\, t\\right)} + 0.1296 \\, e^{\\left(2 \\, t\\right)} + 0.6084}} \\frac{0.36 \\, e^{t}}{\\sqrt{0.1521 \\, e^{\\left(4 \\, t\\right)} + 0.1296 \\, e^{\\left(2 \\, t\\right)} + 0.6084}}</script></html>"
      ],
      "text/plain": [
       "0.78/sqrt(0.1521*e^(4*t) + 0.1296*e^(2*t) + 0.6084) -0.39*e^(2*t)/sqrt(0.1521*e^(4*t) + 0.1296*e^(2*t) + 0.6084) 0.36*e^t/sqrt(0.1521*e^(4*t) + 0.1296*e^(2*t) + 0.6084)"
      ]
     },
     "execution_count": 47,
     "metadata": {
     },
     "output_type": "execute_result"
    },
    {
     "name": "stdout",
     "output_type": "stream",
     "text": [
      "\n",
      "Calculem la N, producte vectoria b i t: \n"
     ]
    },
    {
     "data": {
      "text/html": [
       "<html><script type=\"math/tex; mode=display\">\\newcommand{\\Bold}[1]{\\mathbf{#1}}t \\ {\\mapsto}\\ \\frac{0.507 \\, e^{\\left(3 \\, t\\right)} + 0.216 \\, e^{t}}{\\sqrt{0.1521 \\, e^{\\left(4 \\, t\\right)} + 0.1296 \\, e^{\\left(2 \\, t\\right)} + 0.6084} \\sqrt{0.09 \\, e^{\\left(4 \\, t\\right)} + 1.69 \\, e^{\\left(2 \\, t\\right)} + 0.36}} t \\ {\\mapsto}\\ \\frac{0.108 \\, e^{\\left(3 \\, t\\right)} + 1.014 \\, e^{t}}{\\sqrt{0.1521 \\, e^{\\left(4 \\, t\\right)} + 0.1296 \\, e^{\\left(2 \\, t\\right)} + 0.6084} \\sqrt{0.09 \\, e^{\\left(4 \\, t\\right)} + 1.69 \\, e^{\\left(2 \\, t\\right)} + 0.36}} t \\ {\\mapsto}\\ \\frac{0.117 \\, e^{\\left(4 \\, t\\right)} - 0.468}{\\sqrt{0.1521 \\, e^{\\left(4 \\, t\\right)} + 0.1296 \\, e^{\\left(2 \\, t\\right)} + 0.6084} \\sqrt{0.09 \\, e^{\\left(4 \\, t\\right)} + 1.69 \\, e^{\\left(2 \\, t\\right)} + 0.36}}</script></html>"
      ],
      "text/plain": [
       "t |--> (0.507*e^(3*t) + 0.216*e^t)/(sqrt(0.1521*e^(4*t) + 0.1296*e^(2*t) + 0.6084)*sqrt(0.09*e^(4*t) + 1.69*e^(2*t) + 0.36)) t |--> (0.108*e^(3*t) + 1.014*e^t)/(sqrt(0.1521*e^(4*t) + 0.1296*e^(2*t) + 0.6084)*sqrt(0.09*e^(4*t) + 1.69*e^(2*t) + 0.36)) t |--> (0.117*e^(4*t) - 0.468)/(sqrt(0.1521*e^(4*t) + 0.1296*e^(2*t) + 0.6084)*sqrt(0.09*e^(4*t) + 1.69*e^(2*t) + 0.36))"
      ]
     },
     "execution_count": 47,
     "metadata": {
     },
     "output_type": "execute_result"
    }
   ],
   "source": [
    "import numpy as np\n",
    "\n",
    "c(t)=[0.3*exp(t), 0.6*exp(-t), -1.3*t] \n",
    "\n",
    "\n",
    "print('\\nPrimera derivada: ')\n",
    "x1(t) = diff(c[0])\n",
    "y1(t) = diff(c[1])\n",
    "z1(t) = diff(c[2])\n",
    "show(x1, y1, z1)\n",
    "\n",
    "print('\\nSegona derivada: ')\n",
    "x2(t) = diff(x1)\n",
    "y2(t) = diff(y1)\n",
    "z2(t) = diff(z1)\n",
    "show(x2, y2, z2)\n",
    "\n",
    "print('\\nTercera derivada: ')\n",
    "x3(t) = diff(x2)\n",
    "y3(t) = diff(y2)\n",
    "z3(t) = diff(z2)\n",
    "show(x3, y3, z3)\n",
    "\n",
    "print('\\nCalculem la curvatura: ')\n",
    "\n",
    "print('Producte vectorial 1er 2n derivada: ')\n",
    "\n",
    "vect_primera_derivada = vector(SR, [x1, y1, z1])\n",
    "vect_segona_derivada =  vector(SR, [x2, y2, z2])\n",
    "a = vect_primera_derivada.cross_product(vect_segona_derivada); show(a)\n",
    "\n",
    "print('Norma del producte vectorial, numerador: ')\n",
    "norma = a.norm(); show(norma.full_simplify())\n",
    "\n",
    "print('Norma de la 1r derivada elevada a 3, denominador: ')\n",
    "norm = (vect_primera_derivada.norm())**3; show(norm.full_simplify())\n",
    "print('Curvatura, numerador/denominador: ')\n",
    "sol(t) = norma/norm; show(sol.full_simplify())\n",
    "\n",
    "\n",
    "print('\\n------------------------------------------------------------------------------------------------------------------------\\n')\n",
    "\n",
    "print('Anem a calcular la torsió: ')\n",
    "print('Numerador: determinant de la primera, segona i tercera derivada: ')\n",
    "print('Matriu: ')\n",
    "matriu = matrix(SR, [[x1, y1, z1], [x2, y2, z2], [x3, y3, z3]]); show(matriu)\n",
    "print('Determinant Matriu: ')\n",
    "det = matriu.determinant(); show(det)\n",
    "print('Dividim det entre la norma **2, denomiandor: ')\n",
    "b = norma**2\n",
    "\n",
    "print('Torsio: ')\n",
    "torsio(t) = -det/b; show(torsio.full_simplify())\n",
    "\n",
    "print('\\n------------------------------------------------------------------------------------------------------------------------\\n')\n",
    "\n",
    "print('Tiedre de frenet: ')\n",
    "print('Calculem la T, primera derivada entre la seva norma: ')\n",
    "miquel(t) = x1/vect_primera_derivada.norm()\n",
    "barnils(t)= y1/vect_primera_derivada.norm()\n",
    "bea(t) = z1/vect_primera_derivada.norm()\n",
    "show(miquel.full_simplify(), barnils.full_simplify(), bea.full_simplify())\n",
    "\n",
    "print('\\nCalculem la B, numerador (prod_vect 1r, 2n derivada): '); show(a)\n",
    "print('Denominador, norma product vect 1r, 2n derivada: '); show(norma.full_simplify())\n",
    "print('b: ')\n",
    "a0(t) = a[0]/norma\n",
    "a1(t) = a[1]/norma\n",
    "a2(t) = a[2]/norma\n",
    "show(a0.full_simplify(), a1.full_simplify(), a2.full_simplify())\n",
    "print('\\nCalculem la N, producte vectoria b i t: ')\n",
    "vect_b = vector(SR, [a0, a1, a2])\n",
    "vect_T = vector(SR, [miquel, barnils, bea])\n",
    "N = vect_b.cross_product(vect_T)\n",
    "N0(t)=N[0].full_simplify()\n",
    "N1(t)=N[1].full_simplify()\n",
    "N2(t)=N[2].full_simplify()\n",
    "show(N0,N1,N2)"
   ]
  },
  {
   "cell_type": "code",
   "execution_count": 46,
   "metadata": {
    "collapsed": false
   },
   "outputs": [
    {
     "name": "stdout",
     "output_type": "stream",
     "text": [
      "CURVATURA: \n"
     ]
    },
    {
     "data": {
      "text/html": [
       "<html><script type=\"math/tex; mode=display\">\\newcommand{\\Bold}[1]{\\mathbf{#1}}0.272007311154626</script></html>"
      ],
      "text/plain": [
       "0.272007311154626"
      ]
     },
     "execution_count": 46,
     "metadata": {
     },
     "output_type": "execute_result"
    },
    {
     "name": "stdout",
     "output_type": "stream",
     "text": [
      "TORSIÓ: \n"
     ]
    },
    {
     "data": {
      "text/html": [
       "<html><script type=\"math/tex; mode=display\">\\newcommand{\\Bold}[1]{\\mathbf{#1}}0.272007311154626</script></html>"
      ],
      "text/plain": [
       "0.272007311154626"
      ]
     },
     "execution_count": 46,
     "metadata": {
     },
     "output_type": "execute_result"
    },
    {
     "name": "stdout",
     "output_type": "stream",
     "text": [
      "VECTOR TANGENT UNITARI: \n",
      "\n",
      "(0.717070591093434, -0.0714016850867068, -0.693333661923098)\n",
      "\n",
      "    -- Component x del vector tangent unitari: \n"
     ]
    },
    {
     "data": {
      "text/html": [
       "<html><script type=\"math/tex; mode=display\">\\newcommand{\\Bold}[1]{\\mathbf{#1}}0.717070591093434</script></html>"
      ],
      "text/plain": [
       "0.717070591093434"
      ]
     },
     "execution_count": 46,
     "metadata": {
     },
     "output_type": "execute_result"
    },
    {
     "name": "stdout",
     "output_type": "stream",
     "text": [
      "    -- Component y del vector tangent unitari: \n"
     ]
    },
    {
     "data": {
      "text/html": [
       "<html><script type=\"math/tex; mode=display\">\\newcommand{\\Bold}[1]{\\mathbf{#1}}-0.0714016850867068</script></html>"
      ],
      "text/plain": [
       "-0.0714016850867068"
      ]
     },
     "execution_count": 46,
     "metadata": {
     },
     "output_type": "execute_result"
    },
    {
     "name": "stdout",
     "output_type": "stream",
     "text": [
      "    -- Component z del vector tangent unitari: \n"
     ]
    },
    {
     "data": {
      "text/html": [
       "<html><script type=\"math/tex; mode=display\">\\newcommand{\\Bold}[1]{\\mathbf{#1}}-0.693333661923098</script></html>"
      ],
      "text/plain": [
       "-0.693333661923098"
      ]
     },
     "execution_count": 46,
     "metadata": {
     },
     "output_type": "execute_result"
    },
    {
     "name": "stdout",
     "output_type": "stream",
     "text": [
      "VECTOR BINORMAL UNITARI: \n",
      "\n",
      "(0.0970664404381952, -0.974815786711883, 0.200779202403914)\n",
      "\n",
      "    -- Component x del vector binormal unitari : \n"
     ]
    },
    {
     "data": {
      "text/html": [
       "<html><script type=\"math/tex; mode=display\">\\newcommand{\\Bold}[1]{\\mathbf{#1}}0.0970664404381952</script></html>"
      ],
      "text/plain": [
       "0.0970664404381952"
      ]
     },
     "execution_count": 46,
     "metadata": {
     },
     "output_type": "execute_result"
    },
    {
     "name": "stdout",
     "output_type": "stream",
     "text": [
      "    -- Component y del vector binormal unitari : \n"
     ]
    },
    {
     "data": {
      "text/html": [
       "<html><script type=\"math/tex; mode=display\">\\newcommand{\\Bold}[1]{\\mathbf{#1}}-0.974815786711883</script></html>"
      ],
      "text/plain": [
       "-0.974815786711883"
      ]
     },
     "execution_count": 46,
     "metadata": {
     },
     "output_type": "execute_result"
    },
    {
     "name": "stdout",
     "output_type": "stream",
     "text": [
      "    -- Component z del vector binormal unitari : \n"
     ]
    },
    {
     "data": {
      "text/html": [
       "<html><script type=\"math/tex; mode=display\">\\newcommand{\\Bold}[1]{\\mathbf{#1}}0.200779202403914</script></html>"
      ],
      "text/plain": [
       "0.200779202403914"
      ]
     },
     "execution_count": 46,
     "metadata": {
     },
     "output_type": "execute_result"
    },
    {
     "name": "stdout",
     "output_type": "stream",
     "text": [
      "N: \n",
      "\n",
      "(0.6902085724833991, 0.2112722919458967, 0.6920810249720446)\n",
      "\n",
      "    -- Component x de n : \n"
     ]
    },
    {
     "data": {
      "text/html": [
       "<html><script type=\"math/tex; mode=display\">\\newcommand{\\Bold}[1]{\\mathbf{#1}}0.6902085724833991</script></html>"
      ],
      "text/plain": [
       "0.6902085724833991"
      ]
     },
     "execution_count": 46,
     "metadata": {
     },
     "output_type": "execute_result"
    },
    {
     "name": "stdout",
     "output_type": "stream",
     "text": [
      "    -- Component y de n: \n"
     ]
    },
    {
     "data": {
      "text/html": [
       "<html><script type=\"math/tex; mode=display\">\\newcommand{\\Bold}[1]{\\mathbf{#1}}0.2112722919458967</script></html>"
      ],
      "text/plain": [
       "0.2112722919458967"
      ]
     },
     "execution_count": 46,
     "metadata": {
     },
     "output_type": "execute_result"
    },
    {
     "name": "stdout",
     "output_type": "stream",
     "text": [
      "    -- Component z de n: \n"
     ]
    },
    {
     "data": {
      "text/html": [
       "<html><script type=\"math/tex; mode=display\">\\newcommand{\\Bold}[1]{\\mathbf{#1}}0.6920810249720446</script></html>"
      ],
      "text/plain": [
       "0.6920810249720446"
      ]
     },
     "execution_count": 46,
     "metadata": {
     },
     "output_type": "execute_result"
    }
   ],
   "source": [
    "#RESULTATS SI VOLEM ALGUNA COSA EN CONCRET\n",
    "\n",
    "\n",
    "t_enunciat= 1.5\n",
    "\n",
    "#CURVATURA\n",
    "print(\"CURVATURA: \")\n",
    "\n",
    "sol_val = sol(t_enunciat); show(sol_val)\n",
    "\n",
    "\n",
    "#TORSIÓ\n",
    "print(\"TORSIÓ: \")\n",
    "\n",
    "sol_val1 = torsio(t_enunciat); show(sol_val)\n",
    "\n",
    "\n",
    "#TRIEDRE DE FRENET --> (t)\n",
    "print(\"VECTOR TANGENT UNITARI: \")\n",
    "solucio_primer_t= miquel(t_enunciat)\n",
    "solucio_segon_t= barnils(t_enunciat)\n",
    "solucio_tercer_t= bea(t_enunciat)\n",
    "\n",
    "print(\"\")\n",
    "print(solucio_primer_t,solucio_segon_t,solucio_tercer_t)\n",
    "print(\"\")\n",
    "print(\"    -- Component x del vector tangent unitari: \")\n",
    "show( solucio_primer_t)\n",
    "print(\"    -- Component y del vector tangent unitari: \")\n",
    "show(solucio_segon_t)\n",
    "print(\"    -- Component z del vector tangent unitari: \")\n",
    "show(solucio_tercer_t)\n",
    "\n",
    "\n",
    "#TRIEDRE DE FRENET --> (b)\n",
    "\n",
    "print(\"VECTOR BINORMAL UNITARI: \")\n",
    "\n",
    "\n",
    "solucio_x= a0(x)\n",
    "solucio_y= a1(x)\n",
    "solucio_z= a2(x)\n",
    "\n",
    "print(\"\")\n",
    "print(solucio_x,solucio_y,solucio_z)\n",
    "print(\"\")\n",
    "print(\"    -- Component x del vector binormal unitari : \")\n",
    "show( solucio_x)\n",
    "print(\"    -- Component y del vector binormal unitari : \")\n",
    "show(solucio_y)\n",
    "print(\"    -- Component z del vector binormal unitari : \")\n",
    "show(solucio_z)\n",
    "\n",
    "#TRIEDRE DE FRENET --> (n)\n",
    "print(\"N: \")\n",
    "sol_x = N0(x)\n",
    "sol_y = N1(x)\n",
    "sol_z = N2(x)\n",
    "\n",
    "\n",
    "print(\"\")\n",
    "print(sol_x,sol_y,sol_z)\n",
    "print(\"\")\n",
    "print(\"    -- Component x de n : \")\n",
    "show(sol_x)\n",
    "print(\"    -- Component y de n: \")\n",
    "show(sol_y)\n",
    "print(\"    -- Component z de n: \")\n",
    "show(sol_z)\n"
   ]
  },
  {
   "cell_type": "code",
   "execution_count": 0,
   "metadata": {
    "collapsed": false
   },
   "outputs": [
   ],
   "source": [
   ]
  }
 ],
 "metadata": {
  "kernelspec": {
   "display_name": "SageMath (system-wide)",
   "language": "sagemath",
   "metadata": {
    "cocalc": {
     "description": "Open-source mathematical software system",
     "priority": -1,
     "url": "https://www.sagemath.org/"
    }
   },
   "name": "sagemath"
  },
  "language_info": {
   "codemirror_mode": {
    "name": "ipython",
    "version": 2
   },
   "file_extension": ".py",
   "mimetype": "text/x-python",
   "name": "python",
   "nbconvert_exporter": "python",
   "pygments_lexer": "ipython2",
   "version": "2.7.15"
  }
 },
 "nbformat": 4,
 "nbformat_minor": 4
}