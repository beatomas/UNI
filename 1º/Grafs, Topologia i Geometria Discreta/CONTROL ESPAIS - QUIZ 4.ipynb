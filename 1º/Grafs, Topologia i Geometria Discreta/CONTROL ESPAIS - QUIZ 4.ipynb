{
 "cells": [
  {
   "cell_type": "markdown",
   "metadata": {},
   "source": [
    "Ariiiiiiiiii"
   ]
  },
  {
   "cell_type": "markdown",
   "metadata": {},
   "source": [
    "# ESPAIS VECTORIALS - CONTROL QUIZ 4"
   ]
  },
  {
   "cell_type": "code",
   "execution_count": 27,
   "metadata": {},
   "outputs": [
    {
     "data": {
      "text/html": [
       "<html><script type=\"math/tex; mode=display\">\\newcommand{\\Bold}[1]{\\mathbf{#1}}\\left(\\begin{array}{rrr}\n",
       "1 & -1 & 1 \\\\\n",
       "-1 & 1 & 1 \\\\\n",
       "1 & 1 & 1\n",
       "\\end{array}\\right)</script></html>"
      ],
      "text/plain": [
       "[ 1 -1  1]\n",
       "[-1  1  1]\n",
       "[ 1  1  1]"
      ]
     },
     "metadata": {},
     "output_type": "display_data"
    }
   ],
   "source": [
    "# 1) CREEM MATRIU A\n",
    "\n",
    "A = matrix(QQ, [[1, -1, 1], [-1, 1, 1], [1, 1, 1]])\n",
    "show(A)"
   ]
  },
  {
   "cell_type": "code",
   "execution_count": 28,
   "metadata": {},
   "outputs": [
    {
     "data": {
      "text/html": [
       "<html><script type=\"math/tex; mode=display\">\\newcommand{\\Bold}[1]{\\mathbf{#1}}\\lambda^{3} - 3 \\lambda^{2} + 4</script></html>"
      ],
      "text/plain": [
       "lambda^3 - 3*lambda^2 + 4"
      ]
     },
     "metadata": {},
     "output_type": "display_data"
    }
   ],
   "source": [
    "# 2) CREEM POLINOMI CARACTERÍSTIC\n",
    "\n",
    "show(A.characteristic_polynomial('lambda'))"
   ]
  },
  {
   "cell_type": "code",
   "execution_count": 29,
   "metadata": {},
   "outputs": [
    {
     "data": {
      "text/html": [
       "<html><script type=\"math/tex; mode=display\">\\newcommand{\\Bold}[1]{\\mathbf{#1}}\\verb|Valor|\\phantom{\\verb!x!}\\verb|propi|\\phantom{\\verb!x!}\\verb|=| -1</script></html>"
      ],
      "text/plain": [
       "'Valor propi = ' -1"
      ]
     },
     "metadata": {},
     "output_type": "display_data"
    },
    {
     "data": {
      "text/html": [
       "<html><script type=\"math/tex; mode=display\">\\newcommand{\\Bold}[1]{\\mathbf{#1}}\\verb|Valor|\\phantom{\\verb!x!}\\verb|propi|\\phantom{\\verb!x!}\\verb|=| 2</script></html>"
      ],
      "text/plain": [
       "'Valor propi = ' 2"
      ]
     },
     "metadata": {},
     "output_type": "display_data"
    }
   ],
   "source": [
    "# 3) CALCULEM ELS VALORS PROPIS\n",
    "\n",
    "VP=A.eigenspaces_right()\n",
    "\n",
    "for vp in VP:\n",
    "    show(\"Valor propi = \",vp[0])"
   ]
  },
  {
   "cell_type": "code",
   "execution_count": 42,
   "metadata": {},
   "outputs": [
    {
     "data": {
      "text/html": [
       "<html><script type=\"math/tex; mode=display\">\\newcommand{\\Bold}[1]{\\mathbf{#1}}\\left(\\begin{array}{rrr|r}\n",
       "-1 & -1 & 1 & 0 \\\\\n",
       "-1 & -1 & 1 & 0 \\\\\n",
       "1 & 1 & -1 & 0\n",
       "\\end{array}\\right)</script></html>"
      ],
      "text/plain": [
       "[-1 -1  1| 0]\n",
       "[-1 -1  1| 0]\n",
       "[ 1  1 -1| 0]"
      ]
     },
     "metadata": {},
     "output_type": "display_data"
    }
   ],
   "source": [
    "# 4) INICIALITZEM MATRIU PER CALCULAR KER DE CADA VALOR PROPI \n",
    "\"(canviar la x per valor propi)\"\n",
    "\n",
    "M = ((A-x*identity_matrix(3)))\n",
    "b = vector(QQ, [0, 0, 0])\n",
    "M_vp = M.augment(b, subdivide=True)\n",
    "show(M_vp)"
   ]
  },
  {
   "cell_type": "code",
   "execution_count": 46,
   "metadata": {},
   "outputs": [
    {
     "data": {
      "text/html": [
       "<html><script type=\"math/tex; mode=display\">\\newcommand{\\Bold}[1]{\\mathbf{#1}}\\left(\\begin{array}{rrr|r}\n",
       "1 & 1 & -1 & 0 \\\\\n",
       "0 & 0 & 0 & 0 \\\\\n",
       "0 & 0 & 0 & 0\n",
       "\\end{array}\\right)</script></html>"
      ],
      "text/plain": [
       "[ 1  1 -1| 0]\n",
       "[ 0  0  0| 0]\n",
       "[ 0  0  0| 0]"
      ]
     },
     "metadata": {},
     "output_type": "display_data"
    }
   ],
   "source": [
    "# 5) REALITZEM GAUSS JORDAN \n",
    "\"només dona la solució\"\n",
    "\n",
    "show(M_vp.rref())"
   ]
  },
  {
   "cell_type": "code",
   "execution_count": 50,
   "metadata": {},
   "outputs": [
    {
     "data": {
      "text/html": [
       "<html><script type=\"math/tex; mode=display\">\\newcommand{\\Bold}[1]{\\mathbf{#1}}\\verb|Base|\\phantom{\\verb!x!}\\verb|=| \\left[\\left(1,\\,1,\\,-1\\right)\\right]</script></html>"
      ],
      "text/plain": [
       "'Base =' [\n",
       "(1, 1, -1)\n",
       "]"
      ]
     },
     "metadata": {},
     "output_type": "display_data"
    },
    {
     "data": {
      "text/html": [
       "<html><script type=\"math/tex; mode=display\">\\newcommand{\\Bold}[1]{\\mathbf{#1}}\\verb|Base|\\phantom{\\verb!x!}\\verb|=| \\left[\\left(1,\\,0,\\,1\\right), \\left(0,\\,1,\\,1\\right)\\right]</script></html>"
      ],
      "text/plain": [
       "'Base =' [\n",
       "(1, 0, 1),\n",
       "(0, 1, 1)\n",
       "]"
      ]
     },
     "metadata": {},
     "output_type": "display_data"
    }
   ],
   "source": [
    "\"Se suposa que hem calculat les incògnites i fet la paramètrica\"\n",
    "\n",
    "# 6) CALCULAR LES BASES - PER TOTS ELS VALORS PROPIS\n",
    "\n",
    "VP=A.eigenspaces_right()\n",
    "\n",
    "for vp in VP:\n",
    "    show(\"Base =\", vp[1].basis())\n",
    "\n",
    "    \n",
    "# Anar amb compte ja que poden ser bases molt diferents"
   ]
  },
  {
   "cell_type": "code",
   "execution_count": 205,
   "metadata": {},
   "outputs": [
    {
     "data": {
      "text/html": [
       "<html><script type=\"math/tex; mode=display\">\\newcommand{\\Bold}[1]{\\mathbf{#1}}\\verb|Base|\\phantom{\\verb!x!}\\verb|per|\\phantom{\\verb!x!}\\verb|vp:|\\phantom{\\verb!x!}\\verb|-1|\\phantom{\\verb!x!}\\verb|=| \\left[\\left(-1,\\,-1,\\,1\\right)\\right]</script></html>"
      ],
      "text/plain": [
       "'Base per vp: -1 = ' [\n",
       "(-1, -1, 1)\n",
       "]"
      ]
     },
     "metadata": {},
     "output_type": "display_data"
    },
    {
     "data": {
      "text/html": [
       "<html><script type=\"math/tex; mode=display\">\\newcommand{\\Bold}[1]{\\mathbf{#1}}\\verb|Base|\\phantom{\\verb!x!}\\verb|per|\\phantom{\\verb!x!}\\verb|vp:|\\phantom{\\verb!x!}\\verb|2|\\phantom{\\verb!x!}\\verb|=| \\left[\\left(-1,\\,1,\\,0\\right), \\left(1,\\,0,\\,1\\right)\\right]</script></html>"
      ],
      "text/plain": [
       "'Base per vp: 2 = ' [\n",
       "(-1, 1, 0),\n",
       "(1, 0, 1)\n",
       "]"
      ]
     },
     "metadata": {},
     "output_type": "display_data"
    },
    {
     "data": {
      "text/plain": [
       "'Els valors propis canviaran'"
      ]
     },
     "execution_count": 205,
     "metadata": {},
     "output_type": "execute_result"
    }
   ],
   "source": [
    "# 7) TORNAR A ESTABLIR LES SOLUCIONS DE LES BASES\n",
    "\n",
    "\"En cas que les bases m'hagin donat diferents a l'apartat anterior, canviar-les\"\n",
    "\n",
    "Ba = (QQ^3).subspace_with_basis([[-1,-1,1]])\n",
    "B1=Ba.basis()\n",
    "\n",
    "Bb = (QQ^3).subspace_with_basis([[-1,1,0],[1,0,1]])\n",
    "B2=Bb.basis()\n",
    "\n",
    "show(\"Base per vp: -1 = \", B1)\n",
    "show(\"Base per vp: 2 = \",B2)\n",
    "\n",
    "\"Els valors propis canviaran\""
   ]
  },
  {
   "cell_type": "code",
   "execution_count": 112,
   "metadata": {},
   "outputs": [
    {
     "data": {
      "text/html": [
       "<html><script type=\"math/tex; mode=display\">\\newcommand{\\Bold}[1]{\\mathbf{#1}}\\verb|La|\\phantom{\\verb!x!}\\verb|base|\\phantom{\\verb!x!}\\verb|ortogonal|\\phantom{\\verb!x!}\\verb|es:| \\left(\\left(-1,\\,1,\\,0\\right), \\left(\\frac{1}{2},\\,\\frac{1}{2},\\,1\\right)\\right)</script></html>"
      ],
      "text/plain": [
       "'La base ortogonal es: ' ((-1, 1, 0), (1/2, 1/2, 1))"
      ]
     },
     "metadata": {},
     "output_type": "display_data"
    }
   ],
   "source": [
    "# 8) CALCULAR BASE ORTOGONAL\n",
    "\n",
    "\"En cas de que hi hagi més d'un component a la base aplicar GRAM_SCHMIDT\"\n",
    "\n",
    "\"OJOOO; Noo utilitzar amb única component a la base\"\n",
    "\n",
    "Bb = (QQ^3).subspace_with_basis([[-1,1,0],[1,0,1]])\n",
    "B2=Bb.basis()\n",
    "\n",
    "\"Canviar la base Bb que vulguem calcular\"\n",
    "\n",
    "V1=B2[0]\n",
    "V2=B2[1]-(B2[1]*V1)/(V1*V1)*V1\n",
    "\n",
    "#u2=B[2]-(B[2]*u0)/(u0*u0)*u0-(B[2]*u1)/(u1*u1)*u1   -  En cas que sigui necessari\n",
    "\n",
    "B_Org=(V1,V2)\n",
    "show(\"La base ortogonal es: \", B_Org)\n"
   ]
  },
  {
   "cell_type": "code",
   "execution_count": 128,
   "metadata": {},
   "outputs": [
    {
     "data": {
      "text/html": [
       "<html><script type=\"math/tex; mode=display\">\\newcommand{\\Bold}[1]{\\mathbf{#1}}\\verb|Norma:| \\sqrt{2}</script></html>"
      ],
      "text/plain": [
       "'Norma: ' sqrt(2)"
      ]
     },
     "metadata": {},
     "output_type": "display_data"
    },
    {
     "data": {
      "text/html": [
       "<html><script type=\"math/tex; mode=display\">\\newcommand{\\Bold}[1]{\\mathbf{#1}}\\verb|Norma:| \\sqrt{\\frac{3}{2}}</script></html>"
      ],
      "text/plain": [
       "'Norma: ' sqrt(3/2)"
      ]
     },
     "metadata": {},
     "output_type": "display_data"
    }
   ],
   "source": [
    "# 9) CALCULAR LA NORMA DE BASE ORTOGONAL\n",
    "\n",
    "u=vector(V1)\n",
    "v=vector(V2)\n",
    "\n",
    "NORMA_a = u.norm()\n",
    "NORMA_b = v.norm()\n",
    "\n",
    "show(\"Norma: \", NORMA_a)\n",
    "show(\"Norma: \", NORMA_b)\n"
   ]
  },
  {
   "cell_type": "code",
   "execution_count": 130,
   "metadata": {},
   "outputs": [
    {
     "data": {
      "text/html": [
       "<html><script type=\"math/tex; mode=display\">\\newcommand{\\Bold}[1]{\\mathbf{#1}}\\left[\\left(-\\frac{1}{2} \\, \\sqrt{2},\\,\\frac{1}{2} \\, \\sqrt{2},\\,0\\right), \\left(\\frac{1}{3} \\, \\sqrt{\\frac{3}{2}},\\,\\frac{1}{3} \\, \\sqrt{\\frac{3}{2}},\\,\\frac{2}{3} \\, \\sqrt{\\frac{3}{2}}\\right)\\right]</script></html>"
      ],
      "text/plain": [
       "[(-1/2*sqrt(2), 1/2*sqrt(2), 0), (1/3*sqrt(3/2), 1/3*sqrt(3/2), 2/3*sqrt(3/2))]"
      ]
     },
     "metadata": {},
     "output_type": "display_data"
    }
   ],
   "source": [
    "# 10) CALCULAR LA BASE ORTONORMAL\n",
    "\n",
    "B_Ortonormal=[u/u.norm() for u in B_Org]\n",
    "show(B_Ortonormal)\n"
   ]
  },
  {
   "cell_type": "code",
   "execution_count": 136,
   "metadata": {},
   "outputs": [
    {
     "data": {
      "text/plain": [
       "(2/3, 2/3, 4/3)"
      ]
     },
     "execution_count": 136,
     "metadata": {},
     "output_type": "execute_result"
    }
   ],
   "source": [
    "# 11) CALCULAR PROJECCIÓ ORTOGONAL\n",
    "\n",
    "\"NO ESTIC SEGURA DE QUE ESTIGUI BÉ !!!!!!\"\n",
    "\n",
    "v=vector([1,1,1])\n",
    "\n",
    "prEv=(QQ^3)(sum([(v*u)*u for u in B_Ortonormal]))\n",
    "\n",
    "prEv"
   ]
  },
  {
   "cell_type": "code",
   "execution_count": 138,
   "metadata": {},
   "outputs": [
    {
     "data": {
      "text/plain": [
       "True"
      ]
     },
     "execution_count": 138,
     "metadata": {},
     "output_type": "execute_result"
    }
   ],
   "source": [
    "# 12) SABER SI ÉS DIAGONALITZABLE\n",
    "\n",
    "A = matrix(QQ, [[1, -1, 1], [-1, 1, 1], [1, 1, 1]])   \"Tornar a utilitzar matriu A enunciat\"\n",
    "A.is_diagonalizable()"
   ]
  },
  {
   "cell_type": "code",
   "execution_count": 148,
   "metadata": {},
   "outputs": [
    {
     "data": {
      "text/html": [
       "<html><script type=\"math/tex; mode=display\">\\newcommand{\\Bold}[1]{\\mathbf{#1}}\\verb|Matriu|\\phantom{\\verb!x!}\\verb|D:| \\left(\\begin{array}{rrr}\n",
       "-1 & 0 & 0 \\\\\n",
       "0 & 2 & 0 \\\\\n",
       "0 & 0 & 2\n",
       "\\end{array}\\right)</script></html>"
      ],
      "text/plain": [
       "'Matriu D:' [-1  0  0]\n",
       "[ 0  2  0]\n",
       "[ 0  0  2]"
      ]
     },
     "metadata": {},
     "output_type": "display_data"
    },
    {
     "data": {
      "text/plain": [
       "'Per calcular P seria posar en columnes les bases'"
      ]
     },
     "execution_count": 148,
     "metadata": {},
     "output_type": "execute_result"
    }
   ],
   "source": [
    "# 13) CALCULAR D - (Amb compte ja que ha canviat l'ordre dels vp ns pk)\n",
    "\n",
    "\"En cas de que sigui diagonalitzable\"\n",
    "\n",
    "A = matrix(QQ, [[1, -1, 1], [-1, 1, 1], [1, 1, 1]]) \n",
    "\n",
    "[D,P]=A.eigenmatrix_right()\n",
    "show(\"Matriu D:\", D)\n",
    "\n",
    "\"Per calcular P seria posar en columnes les bases\""
   ]
  },
  {
   "cell_type": "code",
   "execution_count": null,
   "metadata": {},
   "outputs": [],
   "source": []
  },
  {
   "cell_type": "code",
   "execution_count": null,
   "metadata": {},
   "outputs": [],
   "source": []
  },
  {
   "cell_type": "code",
   "execution_count": null,
   "metadata": {},
   "outputs": [],
   "source": []
  },
  {
   "cell_type": "markdown",
   "metadata": {},
   "source": [
    "# EXERCICI - Quines aplicacions lineals mantenen les distàncies dels vectors = A és o no ortogonal"
   ]
  },
  {
   "cell_type": "code",
   "execution_count": 204,
   "metadata": {},
   "outputs": [
    {
     "data": {
      "text/html": [
       "<html><script type=\"math/tex; mode=display\">\\newcommand{\\Bold}[1]{\\mathbf{#1}}\\left(\\begin{array}{rrr}\n",
       "-15 & -12 & 16 \\\\\n",
       "20 & -9 & -12 \\\\\n",
       "0 & 20 & 15\n",
       "\\end{array}\\right)</script></html>"
      ],
      "text/plain": [
       "[-15 -12  16]\n",
       "[ 20  -9 -12]\n",
       "[  0  20  15]"
      ]
     },
     "metadata": {},
     "output_type": "display_data"
    }
   ],
   "source": [
    "# 1) L'únic que hem de fer en aquest exercici és estudiar les columnes de A per saber si és base ortogonal.\n",
    "\n",
    "# FÒRMULA:   A^t · A = Identitat mida A  (Sí que serà ortogonal)\n",
    "\n",
    "\"Emplenar les incògnites per emplenar la matriu A\"\n",
    "\n",
    "\"OJOOOOOOOO!! NOMÈS FUNCIONA PER NOMBRES QQ - NO FER SI ÉS AMB ARRELS\"\n",
    "\n",
    "a = -15\n",
    "b = -12\n",
    "c = 16\n",
    "d = 20\n",
    "e = -9\n",
    "f = -12\n",
    "g = 0\n",
    "h = 20\n",
    "i = 15\n",
    "\n",
    "A = matrix(QQ, [[a, b, c], [d, e , f], [g, h, i]])\n",
    "show(A)"
   ]
  },
  {
   "cell_type": "code",
   "execution_count": 197,
   "metadata": {},
   "outputs": [
    {
     "data": {
      "text/html": [
       "<html><script type=\"math/tex; mode=display\">\\newcommand{\\Bold}[1]{\\mathbf{#1}}\\left(\\begin{array}{rrr}\n",
       "-15 & 20 & 0 \\\\\n",
       "-12 & -9 & 20 \\\\\n",
       "16 & -12 & 15\n",
       "\\end{array}\\right)</script></html>"
      ],
      "text/plain": [
       "[-15  20   0]\n",
       "[-12  -9  20]\n",
       "[ 16 -12  15]"
      ]
     },
     "metadata": {},
     "output_type": "display_data"
    }
   ],
   "source": [
    "# 2) Calcular la transposta de A\n",
    "\n",
    "AT = (A.transpose())\n",
    "show(AT)"
   ]
  },
  {
   "cell_type": "code",
   "execution_count": 202,
   "metadata": {},
   "outputs": [
    {
     "data": {
      "text/plain": [
       "False"
      ]
     },
     "execution_count": 202,
     "metadata": {},
     "output_type": "execute_result"
    }
   ],
   "source": [
    "# 3) CALCULAR LA FÒRMULA\n",
    "\n",
    "# FÒRMULA:   A^t · A = Identitat mida A  (Sí que serà ortogonal)\n",
    "\n",
    "Mult = AT*A\n",
    "Id = matrix.identity(3)\n",
    "\n",
    "Mult == Id"
   ]
  },
  {
   "cell_type": "code",
   "execution_count": 203,
   "metadata": {},
   "outputs": [],
   "source": [
    "#Com que el resultat és False, podem assegurar que NO ÉS ORTOGONAL - NO MANTÈ LES DISTÀNCIES DELS VECTORS"
   ]
  }
 ],
 "metadata": {
  "kernelspec": {
   "display_name": "SageMath 8.8",
   "language": "sage",
   "name": "sagemath"
  },
  "language_info": {
   "codemirror_mode": {
    "name": "ipython",
    "version": 2
   },
   "file_extension": ".py",
   "mimetype": "text/x-python",
   "name": "python",
   "nbconvert_exporter": "python",
   "pygments_lexer": "ipython2",
   "version": "2.7.15"
  }
 },
 "nbformat": 4,
 "nbformat_minor": 2
}
